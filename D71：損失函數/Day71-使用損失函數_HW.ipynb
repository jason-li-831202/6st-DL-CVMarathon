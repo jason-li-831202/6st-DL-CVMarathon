{
 "cells": [
  {
   "cell_type": "markdown",
   "metadata": {
    "colab_type": "text",
    "id": "cj4tE8e8iUtO"
   },
   "source": [
    "#   \n",
    "\n",
    "# 作業目標:\n",
    "\n",
    "    1. 藉由固定的 dataset, 來驗證不同loss function\n",
    "    2. Dataset 的特性跟我們選用的loss function 對accrancy 的影響\n",
    "    \n",
    "    \n",
    "# 作業重點: \n",
    "    請分別選用 \"MSE\", \"binary _crossentropy\"\n",
    "    查看Train/test accurancy and loss rate\n",
    "    "
   ]
  },
  {
   "cell_type": "markdown",
   "metadata": {
    "colab_type": "text",
    "id": "R51J4KyyiUsL"
   },
   "source": [
    "# 導入必要的函數"
   ]
  },
  {
   "cell_type": "code",
   "execution_count": 1,
   "metadata": {
    "colab": {},
    "colab_type": "code",
    "id": "Qd68OQjciUsM"
   },
   "outputs": [
    {
     "name": "stderr",
     "output_type": "stream",
     "text": [
      "Using TensorFlow backend.\n",
      "C:\\Users\\zuoo5\\Anaconda3\\envs\\tensorflow-gpu\\lib\\site-packages\\tensorflow\\python\\framework\\dtypes.py:523: FutureWarning: Passing (type, 1) or '1type' as a synonym of type is deprecated; in a future version of numpy, it will be understood as (type, (1,)) / '(1,)type'.\n",
      "  _np_qint8 = np.dtype([(\"qint8\", np.int8, 1)])\n",
      "C:\\Users\\zuoo5\\Anaconda3\\envs\\tensorflow-gpu\\lib\\site-packages\\tensorflow\\python\\framework\\dtypes.py:524: FutureWarning: Passing (type, 1) or '1type' as a synonym of type is deprecated; in a future version of numpy, it will be understood as (type, (1,)) / '(1,)type'.\n",
      "  _np_quint8 = np.dtype([(\"quint8\", np.uint8, 1)])\n",
      "C:\\Users\\zuoo5\\Anaconda3\\envs\\tensorflow-gpu\\lib\\site-packages\\tensorflow\\python\\framework\\dtypes.py:525: FutureWarning: Passing (type, 1) or '1type' as a synonym of type is deprecated; in a future version of numpy, it will be understood as (type, (1,)) / '(1,)type'.\n",
      "  _np_qint16 = np.dtype([(\"qint16\", np.int16, 1)])\n",
      "C:\\Users\\zuoo5\\Anaconda3\\envs\\tensorflow-gpu\\lib\\site-packages\\tensorflow\\python\\framework\\dtypes.py:526: FutureWarning: Passing (type, 1) or '1type' as a synonym of type is deprecated; in a future version of numpy, it will be understood as (type, (1,)) / '(1,)type'.\n",
      "  _np_quint16 = np.dtype([(\"quint16\", np.uint16, 1)])\n",
      "C:\\Users\\zuoo5\\Anaconda3\\envs\\tensorflow-gpu\\lib\\site-packages\\tensorflow\\python\\framework\\dtypes.py:527: FutureWarning: Passing (type, 1) or '1type' as a synonym of type is deprecated; in a future version of numpy, it will be understood as (type, (1,)) / '(1,)type'.\n",
      "  _np_qint32 = np.dtype([(\"qint32\", np.int32, 1)])\n",
      "C:\\Users\\zuoo5\\Anaconda3\\envs\\tensorflow-gpu\\lib\\site-packages\\tensorflow\\python\\framework\\dtypes.py:532: FutureWarning: Passing (type, 1) or '1type' as a synonym of type is deprecated; in a future version of numpy, it will be understood as (type, (1,)) / '(1,)type'.\n",
      "  np_resource = np.dtype([(\"resource\", np.ubyte, 1)])\n"
     ]
    }
   ],
   "source": [
    "from keras.datasets import cifar10\n",
    "import numpy as np\n",
    "np.random.seed(10)"
   ]
  },
  {
   "cell_type": "markdown",
   "metadata": {
    "colab_type": "text",
    "id": "GxKuzQLQiUsP"
   },
   "source": [
    "# 資料準備"
   ]
  },
  {
   "cell_type": "code",
   "execution_count": 2,
   "metadata": {
    "colab": {},
    "colab_type": "code",
    "id": "MIbFZdTCiUsQ"
   },
   "outputs": [],
   "source": [
    "#取得Keras Dataset\n",
    "(x_img_train,y_label_train),(x_img_test,y_label_test)=cifar10.load_data()"
   ]
  },
  {
   "cell_type": "code",
   "execution_count": 3,
   "metadata": {
    "colab": {},
    "colab_type": "code",
    "id": "J8CJVjNOiUsS"
   },
   "outputs": [
    {
     "name": "stdout",
     "output_type": "stream",
     "text": [
      "train data: images: (50000, 32, 32, 3)  labels: (50000, 1)\n",
      "test  data: images: (10000, 32, 32, 3)  labels: (10000, 1)\n"
     ]
    }
   ],
   "source": [
    "#確認 CIFAR10 Dataset 資料維度\n",
    "print(\"train data:\",'images:',x_img_train.shape,\n",
    "      \" labels:\",y_label_train.shape) \n",
    "print(\"test  data:\",'images:',x_img_test.shape ,\n",
    "      \" labels:\",y_label_test.shape) "
   ]
  },
  {
   "cell_type": "code",
   "execution_count": 4,
   "metadata": {
    "colab": {},
    "colab_type": "code",
    "id": "V3P6P4DXiUsV"
   },
   "outputs": [],
   "source": [
    "#資料正規化\n",
    "x_img_train_normalize = x_img_train.astype('float32') / 255.0\n",
    "x_img_test_normalize = x_img_test.astype('float32') / 255.0"
   ]
  },
  {
   "cell_type": "code",
   "execution_count": 5,
   "metadata": {
    "colab": {},
    "colab_type": "code",
    "id": "vsDyjKYliUsX"
   },
   "outputs": [
    {
     "data": {
      "text/plain": [
       "(10000, 10)"
      ]
     },
     "execution_count": 5,
     "metadata": {},
     "output_type": "execute_result"
    }
   ],
   "source": [
    "#針對Label 做 ONE HOT ENCODE\n",
    "from keras.utils import np_utils\n",
    "y_label_train_OneHot = np_utils.to_categorical(y_label_train)\n",
    "y_label_test_OneHot = np_utils.to_categorical(y_label_test)\n",
    "y_label_test_OneHot.shape"
   ]
  },
  {
   "cell_type": "markdown",
   "metadata": {
    "colab_type": "text",
    "id": "RutW2OtgiUsZ"
   },
   "source": [
    "# 建立模型"
   ]
  },
  {
   "cell_type": "code",
   "execution_count": 6,
   "metadata": {
    "colab": {},
    "colab_type": "code",
    "id": "aHz592aXiUsa"
   },
   "outputs": [],
   "source": [
    "from keras.models import Sequential\n",
    "from keras.layers import Dense, Dropout, Activation, Flatten\n",
    "from keras.layers import Conv2D, MaxPooling2D, ZeroPadding2D"
   ]
  },
  {
   "cell_type": "code",
   "execution_count": 7,
   "metadata": {
    "colab": {},
    "colab_type": "code",
    "id": "hslqrIp0iUse"
   },
   "outputs": [],
   "source": [
    "model = Sequential()"
   ]
  },
  {
   "cell_type": "code",
   "execution_count": 8,
   "metadata": {
    "colab": {},
    "colab_type": "code",
    "id": "Hqe35hs2iUsi"
   },
   "outputs": [],
   "source": [
    "#卷積層1"
   ]
  },
  {
   "cell_type": "code",
   "execution_count": 9,
   "metadata": {
    "colab": {},
    "colab_type": "code",
    "id": "ED7dqe1YiUsm"
   },
   "outputs": [],
   "source": [
    "model.add(Conv2D(filters=32,kernel_size=(3,3),\n",
    "                 input_shape=(32, 32,3), \n",
    "                 activation='relu', \n",
    "                 padding='same'))"
   ]
  },
  {
   "cell_type": "code",
   "execution_count": 10,
   "metadata": {
    "colab": {},
    "colab_type": "code",
    "id": "n-GRKmPViUso"
   },
   "outputs": [],
   "source": [
    "model.add(Dropout(rate=0.25))"
   ]
  },
  {
   "cell_type": "code",
   "execution_count": 11,
   "metadata": {
    "colab": {},
    "colab_type": "code",
    "id": "GlWnnD1uiUsw"
   },
   "outputs": [],
   "source": [
    "model.add(MaxPooling2D(pool_size=(2, 2)))"
   ]
  },
  {
   "cell_type": "code",
   "execution_count": 12,
   "metadata": {
    "colab": {},
    "colab_type": "code",
    "id": "nawlkt55iUsy"
   },
   "outputs": [],
   "source": [
    "#卷積層2與池化層2"
   ]
  },
  {
   "cell_type": "code",
   "execution_count": 13,
   "metadata": {
    "colab": {},
    "colab_type": "code",
    "id": "xxyETiKNiUs1"
   },
   "outputs": [],
   "source": [
    "model.add(Conv2D(filters=64, kernel_size=(3, 3), \n",
    "                 activation='relu', padding='same'))"
   ]
  },
  {
   "cell_type": "code",
   "execution_count": 14,
   "metadata": {
    "colab": {},
    "colab_type": "code",
    "id": "RqcKWtqGiUs2"
   },
   "outputs": [],
   "source": [
    "model.add(Dropout(0.25))"
   ]
  },
  {
   "cell_type": "code",
   "execution_count": 15,
   "metadata": {
    "colab": {},
    "colab_type": "code",
    "id": "BUOOzlqfiUs4"
   },
   "outputs": [],
   "source": [
    "model.add(MaxPooling2D(pool_size=(2, 2)))"
   ]
  },
  {
   "cell_type": "code",
   "execution_count": 16,
   "metadata": {
    "colab": {},
    "colab_type": "code",
    "id": "LpkppB2siUs7"
   },
   "outputs": [],
   "source": [
    "#建立神經網路(平坦層、隱藏層、輸出層)"
   ]
  },
  {
   "cell_type": "code",
   "execution_count": 17,
   "metadata": {
    "colab": {},
    "colab_type": "code",
    "id": "UQOfU54_iUs_"
   },
   "outputs": [],
   "source": [
    "model.add(Flatten())\n",
    "model.add(Dropout(rate=0.25))"
   ]
  },
  {
   "cell_type": "code",
   "execution_count": 18,
   "metadata": {
    "colab": {},
    "colab_type": "code",
    "id": "_NV-8sq4iUtD"
   },
   "outputs": [],
   "source": [
    "model.add(Dense(1024, activation='relu'))\n",
    "model.add(Dropout(rate=0.25))"
   ]
  },
  {
   "cell_type": "code",
   "execution_count": 19,
   "metadata": {
    "colab": {},
    "colab_type": "code",
    "id": "qVK77krOiUtF"
   },
   "outputs": [],
   "source": [
    "model.add(Dense(10, activation='softmax'))"
   ]
  },
  {
   "cell_type": "code",
   "execution_count": 20,
   "metadata": {
    "colab": {},
    "colab_type": "code",
    "id": "ZxzRIjR0iUtH"
   },
   "outputs": [
    {
     "name": "stdout",
     "output_type": "stream",
     "text": [
      "_________________________________________________________________\n",
      "Layer (type)                 Output Shape              Param #   \n",
      "=================================================================\n",
      "conv2d_1 (Conv2D)            (None, 32, 32, 32)        896       \n",
      "_________________________________________________________________\n",
      "dropout_1 (Dropout)          (None, 32, 32, 32)        0         \n",
      "_________________________________________________________________\n",
      "max_pooling2d_1 (MaxPooling2 (None, 16, 16, 32)        0         \n",
      "_________________________________________________________________\n",
      "conv2d_2 (Conv2D)            (None, 16, 16, 64)        18496     \n",
      "_________________________________________________________________\n",
      "dropout_2 (Dropout)          (None, 16, 16, 64)        0         \n",
      "_________________________________________________________________\n",
      "max_pooling2d_2 (MaxPooling2 (None, 8, 8, 64)          0         \n",
      "_________________________________________________________________\n",
      "flatten_1 (Flatten)          (None, 4096)              0         \n",
      "_________________________________________________________________\n",
      "dropout_3 (Dropout)          (None, 4096)              0         \n",
      "_________________________________________________________________\n",
      "dense_1 (Dense)              (None, 1024)              4195328   \n",
      "_________________________________________________________________\n",
      "dropout_4 (Dropout)          (None, 1024)              0         \n",
      "_________________________________________________________________\n",
      "dense_2 (Dense)              (None, 10)                10250     \n",
      "=================================================================\n",
      "Total params: 4,224,970\n",
      "Trainable params: 4,224,970\n",
      "Non-trainable params: 0\n",
      "_________________________________________________________________\n",
      "None\n"
     ]
    }
   ],
   "source": [
    "#檢查model 的STACK\n",
    "print(model.summary())"
   ]
  },
  {
   "cell_type": "markdown",
   "metadata": {
    "colab_type": "text",
    "id": "QJCtpJM0iUtJ"
   },
   "source": [
    "# 載入之前訓練的模型"
   ]
  },
  {
   "cell_type": "code",
   "execution_count": 21,
   "metadata": {
    "colab": {},
    "colab_type": "code",
    "id": "JU3A6NzQiUtK"
   },
   "outputs": [
    {
     "name": "stdout",
     "output_type": "stream",
     "text": [
      "載入模型失敗!開始訓練一個新模型\n"
     ]
    }
   ],
   "source": [
    "try:\n",
    "    model.load_weights(\"SaveModel/cifarCnnModel.h5\")\n",
    "    print(\"載入模型成功!繼續訓練模型\")\n",
    "except :    \n",
    "    print(\"載入模型失敗!開始訓練一個新模型\")"
   ]
  },
  {
   "cell_type": "markdown",
   "metadata": {
    "colab_type": "text",
    "id": "qBbCuziziUtM"
   },
   "source": [
    "# 訓練模型"
   ]
  },
  {
   "cell_type": "code",
   "execution_count": 30,
   "metadata": {
    "colab": {},
    "colab_type": "code",
    "id": "Q6BiBcseiUtP"
   },
   "outputs": [
    {
     "data": {
      "text/plain": [
       "'\\n作業:\\n請分別選用 \"MSE\", \"binary _crossentropy\"\\n查看Train/test accurancy and loss rate\\n'"
      ]
     },
     "execution_count": 30,
     "metadata": {},
     "output_type": "execute_result"
    }
   ],
   "source": [
    "from keras import optimizers\n",
    "model.compile(loss='MSE', optimizer=optimizers.SGD(lr=1), metrics=['accuracy'])\n",
    "\n",
    "'''\n",
    "作業:\n",
    "請分別選用 \"MSE\", \"binary _crossentropy\"\n",
    "查看Train/test accurancy and loss rate\n",
    "'''"
   ]
  },
  {
   "cell_type": "code",
   "execution_count": 33,
   "metadata": {
    "colab": {},
    "colab_type": "code",
    "id": "4-GdDgmQiUtS"
   },
   "outputs": [
    {
     "name": "stdout",
     "output_type": "stream",
     "text": [
      "Train on 37500 samples, validate on 12500 samples\n",
      "Epoch 1/30\n",
      "37500/37500 [==============================] - 13s 344us/step - loss: 0.0455 - acc: 0.6643 - val_loss: 0.0484 - val_acc: 0.6550\n",
      "Epoch 2/30\n",
      "37500/37500 [==============================] - 13s 335us/step - loss: 0.0443 - acc: 0.6759 - val_loss: 0.0472 - val_acc: 0.6706\n",
      "Epoch 3/30\n",
      "37500/37500 [==============================] - 13s 335us/step - loss: 0.0427 - acc: 0.6913 - val_loss: 0.0517 - val_acc: 0.6250\n",
      "Epoch 4/30\n",
      "37500/37500 [==============================] - 13s 335us/step - loss: 0.0415 - acc: 0.6991 - val_loss: 0.0468 - val_acc: 0.6706\n",
      "Epoch 5/30\n",
      "37500/37500 [==============================] - 13s 336us/step - loss: 0.0400 - acc: 0.7144 - val_loss: 0.0454 - val_acc: 0.6794\n",
      "Epoch 6/30\n",
      "37500/37500 [==============================] - 13s 336us/step - loss: 0.0384 - acc: 0.7247 - val_loss: 0.0444 - val_acc: 0.6887\n",
      "Epoch 7/30\n",
      "37500/37500 [==============================] - 13s 334us/step - loss: 0.0375 - acc: 0.7323 - val_loss: 0.0446 - val_acc: 0.6854\n",
      "Epoch 8/30\n",
      "37500/37500 [==============================] - 12s 333us/step - loss: 0.0364 - acc: 0.7411 - val_loss: 0.0434 - val_acc: 0.6958\n",
      "Epoch 9/30\n",
      "37500/37500 [==============================] - 13s 334us/step - loss: 0.0351 - acc: 0.7525 - val_loss: 0.0423 - val_acc: 0.7010\n",
      "Epoch 10/30\n",
      "37500/37500 [==============================] - 13s 336us/step - loss: 0.0340 - acc: 0.7610 - val_loss: 0.0419 - val_acc: 0.7066\n",
      "Epoch 11/30\n",
      "37500/37500 [==============================] - 13s 335us/step - loss: 0.0328 - acc: 0.7694 - val_loss: 0.0418 - val_acc: 0.7050\n",
      "Epoch 12/30\n",
      "37500/37500 [==============================] - 12s 333us/step - loss: 0.0317 - acc: 0.7778 - val_loss: 0.0409 - val_acc: 0.7106\n",
      "Epoch 13/30\n",
      "37500/37500 [==============================] - 13s 334us/step - loss: 0.0306 - acc: 0.7872 - val_loss: 0.0405 - val_acc: 0.7098\n",
      "Epoch 14/30\n",
      "37500/37500 [==============================] - 13s 334us/step - loss: 0.0295 - acc: 0.7962 - val_loss: 0.0416 - val_acc: 0.7016\n",
      "Epoch 15/30\n",
      "37500/37500 [==============================] - 13s 335us/step - loss: 0.0284 - acc: 0.8053 - val_loss: 0.0400 - val_acc: 0.7149\n",
      "Epoch 16/30\n",
      "37500/37500 [==============================] - 13s 334us/step - loss: 0.0274 - acc: 0.8115 - val_loss: 0.0395 - val_acc: 0.7166\n",
      "Epoch 17/30\n",
      "37500/37500 [==============================] - 13s 335us/step - loss: 0.0270 - acc: 0.8137 - val_loss: 0.0392 - val_acc: 0.7181\n",
      "Epoch 18/30\n",
      "37500/37500 [==============================] - 13s 334us/step - loss: 0.0256 - acc: 0.8235 - val_loss: 0.0399 - val_acc: 0.7106\n",
      "Epoch 19/30\n",
      "37500/37500 [==============================] - 12s 333us/step - loss: 0.0244 - acc: 0.8325 - val_loss: 0.0394 - val_acc: 0.7172\n",
      "Epoch 20/30\n",
      "37500/37500 [==============================] - 12s 333us/step - loss: 0.0236 - acc: 0.8388 - val_loss: 0.0388 - val_acc: 0.7163\n",
      "Epoch 21/30\n",
      "37500/37500 [==============================] - 13s 334us/step - loss: 0.0228 - acc: 0.8451 - val_loss: 0.0386 - val_acc: 0.7200\n",
      "Epoch 22/30\n",
      "37500/37500 [==============================] - 12s 333us/step - loss: 0.0223 - acc: 0.8503 - val_loss: 0.0381 - val_acc: 0.7263\n",
      "Epoch 23/30\n",
      "37500/37500 [==============================] - 13s 334us/step - loss: 0.0215 - acc: 0.8537 - val_loss: 0.0391 - val_acc: 0.7159\n",
      "Epoch 24/30\n",
      "37500/37500 [==============================] - 12s 333us/step - loss: 0.0203 - acc: 0.8646 - val_loss: 0.0378 - val_acc: 0.7256\n",
      "Epoch 25/30\n",
      "37500/37500 [==============================] - 13s 334us/step - loss: 0.0198 - acc: 0.8666 - val_loss: 0.0383 - val_acc: 0.7238\n",
      "Epoch 26/30\n",
      "37500/37500 [==============================] - 13s 334us/step - loss: 0.0188 - acc: 0.8756 - val_loss: 0.0375 - val_acc: 0.7291\n",
      "Epoch 27/30\n",
      "37500/37500 [==============================] - 13s 333us/step - loss: 0.0184 - acc: 0.8781 - val_loss: 0.0376 - val_acc: 0.7279\n",
      "Epoch 28/30\n",
      "37500/37500 [==============================] - 13s 334us/step - loss: 0.0175 - acc: 0.8825 - val_loss: 0.0378 - val_acc: 0.7286\n",
      "Epoch 29/30\n",
      "37500/37500 [==============================] - 13s 334us/step - loss: 0.0172 - acc: 0.8854 - val_loss: 0.0374 - val_acc: 0.7302\n",
      "Epoch 30/30\n",
      "37500/37500 [==============================] - 13s 335us/step - loss: 0.0167 - acc: 0.8887 - val_loss: 0.0374 - val_acc: 0.7302\n"
     ]
    }
   ],
   "source": [
    "#模型訓練, \"Train_History\" 把訓練過程所得到的數值存起來\n",
    "train_history=model.fit(x_img_train_normalize, y_label_train_OneHot,\n",
    "                        validation_split=0.25,\n",
    "                        epochs=30, batch_size=128, verbose=1)  "
   ]
  },
  {
   "cell_type": "code",
   "execution_count": 34,
   "metadata": {},
   "outputs": [
    {
     "data": {
      "image/png": "[encoded data removed]",
      "text/plain": [
       "<Figure size 432x288 with 1 Axes>"
      ]
     },
     "metadata": {
      "needs_background": "light"
     },
     "output_type": "display_data"
    }
   ],
   "source": [
    "import matplotlib.pyplot as plt\n",
    "%matplotlib inline\n",
    "\n",
    "#定義一個繪圖函數\n",
    "def show_train_history(train_acc,test_acc):\n",
    "    plt.plot(train_history.history[train_acc])\n",
    "    plt.plot(train_history.history[test_acc])\n",
    "    plt.title('Train History')\n",
    "    plt.ylabel('Accuracy')\n",
    "    plt.xlabel('Epoch')\n",
    "    plt.legend(['train_acc', 'val_acc'], loc='upper left')\n",
    "    plt.show()\n",
    "    \n",
    "show_train_history('acc','val_acc')"
   ]
  },
  {
   "cell_type": "code",
   "execution_count": 36,
   "metadata": {},
   "outputs": [
    {
     "name": "stdout",
     "output_type": "stream",
     "text": [
      "Train on 37500 samples, validate on 12500 samples\n",
      "Epoch 1/30\n",
      "37500/37500 [==============================] - 14s 368us/step - loss: 2.8217 - acc: 0.8224 - val_loss: 2.8898 - val_acc: 0.8197\n",
      "Epoch 2/30\n",
      "37500/37500 [==============================] - 13s 339us/step - loss: 2.8840 - acc: 0.8201 - val_loss: 2.8898 - val_acc: 0.8197\n",
      "Epoch 3/30\n",
      "37500/37500 [==============================] - 13s 338us/step - loss: 2.8840 - acc: 0.8201 - val_loss: 2.8898 - val_acc: 0.8197\n",
      "Epoch 4/30\n",
      "37500/37500 [==============================] - 13s 338us/step - loss: 2.8840 - acc: 0.8201 - val_loss: 2.8898 - val_acc: 0.8197\n",
      "Epoch 5/30\n",
      "37500/37500 [==============================] - 13s 338us/step - loss: 2.8840 - acc: 0.8201 - val_loss: 2.8898 - val_acc: 0.8197\n",
      "Epoch 6/30\n",
      "37500/37500 [==============================] - 13s 339us/step - loss: 2.8840 - acc: 0.8201 - val_loss: 2.8898 - val_acc: 0.8197\n",
      "Epoch 7/30\n",
      "37500/37500 [==============================] - 13s 340us/step - loss: 2.8840 - acc: 0.8201 - val_loss: 2.8898 - val_acc: 0.8197\n",
      "Epoch 8/30\n",
      "37500/37500 [==============================] - 13s 339us/step - loss: 2.8840 - acc: 0.8201 - val_loss: 2.8898 - val_acc: 0.8197\n",
      "Epoch 9/30\n",
      "37500/37500 [==============================] - 13s 339us/step - loss: 2.8840 - acc: 0.8201 - val_loss: 2.8898 - val_acc: 0.8197\n",
      "Epoch 10/30\n",
      "37500/37500 [==============================] - 13s 339us/step - loss: 2.8840 - acc: 0.8201 - val_loss: 2.8898 - val_acc: 0.8197\n",
      "Epoch 11/30\n",
      "37500/37500 [==============================] - 12s 324us/step - loss: 2.8840 - acc: 0.8201 - val_loss: 2.8898 - val_acc: 0.8197\n",
      "Epoch 12/30\n",
      "37500/37500 [==============================] - 12s 322us/step - loss: 2.8840 - acc: 0.8201 - val_loss: 2.8898 - val_acc: 0.8197\n",
      "Epoch 13/30\n",
      "37500/37500 [==============================] - 13s 337us/step - loss: 2.8840 - acc: 0.8201 - val_loss: 2.8898 - val_acc: 0.8197\n",
      "Epoch 14/30\n",
      "37500/37500 [==============================] - 13s 338us/step - loss: 2.8840 - acc: 0.8201 - val_loss: 2.8898 - val_acc: 0.8197\n",
      "Epoch 15/30\n",
      "37500/37500 [==============================] - 13s 339us/step - loss: 2.8840 - acc: 0.8201 - val_loss: 2.8898 - val_acc: 0.8197\n",
      "Epoch 16/30\n",
      "37500/37500 [==============================] - 13s 340us/step - loss: 2.8840 - acc: 0.8201 - val_loss: 2.8898 - val_acc: 0.8197\n",
      "Epoch 17/30\n",
      "37500/37500 [==============================] - 13s 338us/step - loss: 2.8840 - acc: 0.8201 - val_loss: 2.8898 - val_acc: 0.8197\n",
      "Epoch 18/30\n",
      "37500/37500 [==============================] - 13s 337us/step - loss: 2.8840 - acc: 0.8201 - val_loss: 2.8898 - val_acc: 0.8197\n",
      "Epoch 19/30\n",
      "37500/37500 [==============================] - 13s 338us/step - loss: 2.8840 - acc: 0.8201 - val_loss: 2.8898 - val_acc: 0.8197\n",
      "Epoch 20/30\n",
      "37500/37500 [==============================] - 13s 339us/step - loss: 2.8840 - acc: 0.8201 - val_loss: 2.8898 - val_acc: 0.8197\n",
      "Epoch 21/30\n",
      "37500/37500 [==============================] - 13s 338us/step - loss: 2.8840 - acc: 0.8201 - val_loss: 2.8898 - val_acc: 0.8197\n",
      "Epoch 22/30\n",
      "37500/37500 [==============================] - 13s 340us/step - loss: 2.8840 - acc: 0.8201 - val_loss: 2.8898 - val_acc: 0.8197\n",
      "Epoch 23/30\n",
      "37500/37500 [==============================] - 13s 338us/step - loss: 2.8840 - acc: 0.8201 - val_loss: 2.8898 - val_acc: 0.8197\n",
      "Epoch 24/30\n",
      "37500/37500 [==============================] - 13s 341us/step - loss: 2.8840 - acc: 0.8201 - val_loss: 2.8898 - val_acc: 0.8197\n",
      "Epoch 25/30\n",
      "37500/37500 [==============================] - 13s 339us/step - loss: 2.8840 - acc: 0.8201 - val_loss: 2.8898 - val_acc: 0.8197\n",
      "Epoch 26/30\n",
      "37500/37500 [==============================] - 13s 337us/step - loss: 2.8840 - acc: 0.8201 - val_loss: 2.8898 - val_acc: 0.8197\n",
      "Epoch 27/30\n",
      "37500/37500 [==============================] - 13s 338us/step - loss: 2.8840 - acc: 0.8201 - val_loss: 2.8898 - val_acc: 0.8197\n",
      "Epoch 28/30\n",
      "37500/37500 [==============================] - 13s 339us/step - loss: 2.8840 - acc: 0.8201 - val_loss: 2.8898 - val_acc: 0.8197\n",
      "Epoch 29/30\n",
      "37500/37500 [==============================] - 13s 338us/step - loss: 2.8840 - acc: 0.8201 - val_loss: 2.8898 - val_acc: 0.8197\n",
      "Epoch 30/30\n",
      "37500/37500 [==============================] - 13s 338us/step - loss: 2.8840 - acc: 0.8201 - val_loss: 2.8898 - val_acc: 0.8197\n"
     ]
    }
   ],
   "source": [
    "model.compile(loss='binary_crossentropy', optimizer=optimizers.SGD(lr=1), metrics=['accuracy'])\n",
    "#模型訓練, \"Train_History\" 把訓練過程所得到的數值存起來\n",
    "train_history=model.fit(x_img_train_normalize, y_label_train_OneHot,\n",
    "                        validation_split=0.25,\n",
    "                        epochs=30, batch_size=128, verbose=1)  "
   ]
  },
  {
   "cell_type": "code",
   "execution_count": null,
   "metadata": {},
   "outputs": [],
   "source": []
  }
 ],
 "metadata": {
  "colab": {
   "name": "Day71-使用損失函數_HW.ipynb",
   "provenance": [],
   "version": "0.3.2"
  },
  "kernelspec": {
   "display_name": "Python 3",
   "language": "python",
   "name": "python3"
  },
  "language_info": {
   "codemirror_mode": {
    "name": "ipython",
    "version": 3
   },
   "file_extension": ".py",
   "mimetype": "text/x-python",
   "name": "python",
   "nbconvert_exporter": "python",
   "pygments_lexer": "ipython3",
   "version": "3.6.10"
  }
 },
 "nbformat": 4,
 "nbformat_minor": 1
}
