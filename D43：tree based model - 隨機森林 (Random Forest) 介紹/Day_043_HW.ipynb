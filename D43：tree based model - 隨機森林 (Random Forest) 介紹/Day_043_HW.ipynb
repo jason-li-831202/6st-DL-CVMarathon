{
 "cells": [
  {
   "cell_type": "markdown",
   "metadata": {},
   "source": [
    "## [作業重點]\n",
    "了解隨機森林改善了決策樹的什麼缺點？是用什麼方法改進的？"
   ]
  },
  {
   "cell_type": "markdown",
   "metadata": {},
   "source": [
    "## 作業\n",
    "\n",
    "閱讀以下兩篇文獻，了解隨機森林原理，並試著回答後續的思考問題\n",
    "- [隨機森林 (random forest) - 中文](http://hhtucode.blogspot.tw/2013/06/ml-random-forest.html)\n",
    "- [how random forest works - 英文](https://medium.com/@Synced/how-random-forest-algorithm-works-in-machine-learning-3c0fe15b6674)"
   ]
  },
  {
   "cell_type": "markdown",
   "metadata": {},
   "source": [
    "\n",
    "1. 隨機森林中的每一棵樹，是希望能夠\n",
    "\n",
    "    - 沒有任何限制，讓樹可以持續生長 (讓樹生成很深，讓模型變得複雜)\n",
    "    \n",
    "    - 不要過度生長，避免 Overfitting\n",
    "    \n",
    "    \n",
    "2. 假設總共有 N 筆資料，每棵樹用取後放回的方式抽了總共 N 筆資料生成，請問這棵樹大約使用了多少 % 不重複的原資料生成?\n",
    "hint: 0.632 bootstrap\n"
   ]
  },
  {
   "cell_type": "code",
   "execution_count": 1,
   "metadata": {},
   "outputs": [],
   "source": [
    "%matplotlib inline\n",
    "import numpy as np\n",
    "import pandas as pd\n",
    "import matplotlib.pyplot as plt"
   ]
  },
  {
   "cell_type": "code",
   "execution_count": 2,
   "metadata": {},
   "outputs": [],
   "source": [
    "percent_of_original = []\n",
    "for N in range(10, 2000, 10):\n",
    "    numbers = np.arange(N)\n",
    "    choice = np.random.choice(numbers, N, replace=True)\n",
    "    percent_of_original.append(len(set(choice))/N)"
   ]
  },
  {
   "cell_type": "code",
   "execution_count": 3,
   "metadata": {},
   "outputs": [
    {
     "data": {
      "image/png": "[encoded data removed]",
      "text/plain": [
       "<Figure size 432x288 with 1 Axes>"
      ]
     },
     "metadata": {
      "needs_background": "light"
     },
     "output_type": "display_data"
    }
   ],
   "source": [
    "plt.plot(range(10, 2000, 10), percent_of_original)\n",
    "plt.xlabel('N')\n",
    "plt.ylabel('% of data used')\n",
    "plt.ylim([0, 1])\n",
    "plt.xscale('log')"
   ]
  },
  {
   "cell_type": "code",
   "execution_count": 5,
   "metadata": {},
   "outputs": [
    {
     "data": {
      "text/plain": [
       "[0.6,\n",
       " 0.55,\n",
       " 0.5333333333333333,\n",
       " 0.65,\n",
       " 0.56,\n",
       " 0.6666666666666666,\n",
       " 0.6571428571428571,\n",
       " 0.575,\n",
       " 0.6,\n",
       " 0.65,\n",
       " 0.6545454545454545,\n",
       " 0.6083333333333333,\n",
       " 0.5769230769230769,\n",
       " 0.6142857142857143,\n",
       " 0.6333333333333333,\n",
       " 0.625,\n",
       " 0.6176470588235294,\n",
       " 0.65,\n",
       " 0.6631578947368421,\n",
       " 0.63,\n",
       " 0.6904761904761905,\n",
       " 0.6409090909090909,\n",
       " 0.5956521739130435,\n",
       " 0.6625,\n",
       " 0.608,\n",
       " 0.6576923076923077,\n",
       " 0.6259259259259259,\n",
       " 0.6535714285714286,\n",
       " 0.6379310344827587,\n",
       " 0.64,\n",
       " 0.6580645161290323,\n",
       " 0.625,\n",
       " 0.6303030303030303,\n",
       " 0.65,\n",
       " 0.6257142857142857,\n",
       " 0.6194444444444445,\n",
       " 0.6162162162162163,\n",
       " 0.6289473684210526,\n",
       " 0.6205128205128205,\n",
       " 0.6575,\n",
       " 0.6121951219512195,\n",
       " 0.6023809523809524,\n",
       " 0.6162790697674418,\n",
       " 0.6704545454545454,\n",
       " 0.6377777777777778,\n",
       " 0.6195652173913043,\n",
       " 0.6191489361702127,\n",
       " 0.6020833333333333,\n",
       " 0.6387755102040816,\n",
       " 0.598,\n",
       " 0.615686274509804,\n",
       " 0.6038461538461538,\n",
       " 0.6358490566037736,\n",
       " 0.6351851851851852,\n",
       " 0.6381818181818182,\n",
       " 0.6071428571428571,\n",
       " 0.631578947368421,\n",
       " 0.656896551724138,\n",
       " 0.6457627118644068,\n",
       " 0.6266666666666667,\n",
       " 0.6229508196721312,\n",
       " 0.6516129032258065,\n",
       " 0.6365079365079365,\n",
       " 0.61875,\n",
       " 0.64,\n",
       " 0.6393939393939394,\n",
       " 0.6208955223880597,\n",
       " 0.6294117647058823,\n",
       " 0.6434782608695652,\n",
       " 0.6171428571428571,\n",
       " 0.6507042253521127,\n",
       " 0.6375,\n",
       " 0.6328767123287671,\n",
       " 0.6135135135135135,\n",
       " 0.624,\n",
       " 0.6302631578947369,\n",
       " 0.6441558441558441,\n",
       " 0.6217948717948718,\n",
       " 0.6253164556962025,\n",
       " 0.63625,\n",
       " 0.6370370370370371,\n",
       " 0.6402439024390244,\n",
       " 0.6144578313253012,\n",
       " 0.6523809523809524,\n",
       " 0.6211764705882353,\n",
       " 0.6453488372093024,\n",
       " 0.6229885057471264,\n",
       " 0.6227272727272727,\n",
       " 0.6303370786516854,\n",
       " 0.6466666666666666,\n",
       " 0.6384615384615384,\n",
       " 0.6369565217391304,\n",
       " 0.635483870967742,\n",
       " 0.6372340425531915,\n",
       " 0.631578947368421,\n",
       " 0.6489583333333333,\n",
       " 0.6237113402061856,\n",
       " 0.6326530612244898,\n",
       " 0.6373737373737374,\n",
       " 0.632,\n",
       " 0.6277227722772277,\n",
       " 0.6568627450980392,\n",
       " 0.6223300970873786,\n",
       " 0.6375,\n",
       " 0.6247619047619047,\n",
       " 0.6405660377358491,\n",
       " 0.6327102803738318,\n",
       " 0.6277777777777778,\n",
       " 0.6229357798165137,\n",
       " 0.6327272727272727,\n",
       " 0.6333333333333333,\n",
       " 0.6232142857142857,\n",
       " 0.6522123893805309,\n",
       " 0.6385964912280702,\n",
       " 0.6278260869565218,\n",
       " 0.6275862068965518,\n",
       " 0.6367521367521367,\n",
       " 0.6432203389830509,\n",
       " 0.6285714285714286,\n",
       " 0.6241666666666666,\n",
       " 0.6272727272727273,\n",
       " 0.6163934426229508,\n",
       " 0.6308943089430894,\n",
       " 0.625,\n",
       " 0.6376,\n",
       " 0.6222222222222222,\n",
       " 0.6259842519685039,\n",
       " 0.62890625,\n",
       " 0.6271317829457365,\n",
       " 0.6130769230769231,\n",
       " 0.6198473282442748,\n",
       " 0.634090909090909,\n",
       " 0.6323308270676692,\n",
       " 0.6395522388059701,\n",
       " 0.6311111111111111,\n",
       " 0.6191176470588236,\n",
       " 0.6343065693430657,\n",
       " 0.6108695652173913,\n",
       " 0.6309352517985611,\n",
       " 0.6214285714285714,\n",
       " 0.6297872340425532,\n",
       " 0.6204225352112676,\n",
       " 0.6258741258741258,\n",
       " 0.6291666666666667,\n",
       " 0.636551724137931,\n",
       " 0.6349315068493151,\n",
       " 0.6340136054421769,\n",
       " 0.6358108108108108,\n",
       " 0.6302013422818792,\n",
       " 0.626,\n",
       " 0.6384105960264901,\n",
       " 0.6381578947368421,\n",
       " 0.6437908496732027,\n",
       " 0.6415584415584416,\n",
       " 0.6335483870967742,\n",
       " 0.6403846153846153,\n",
       " 0.6292993630573248,\n",
       " 0.6303797468354431,\n",
       " 0.6327044025157232,\n",
       " 0.64,\n",
       " 0.6409937888198758,\n",
       " 0.6271604938271605,\n",
       " 0.6147239263803681,\n",
       " 0.6280487804878049,\n",
       " 0.6266666666666667,\n",
       " 0.6373493975903615,\n",
       " 0.6383233532934132,\n",
       " 0.6279761904761905,\n",
       " 0.6224852071005917,\n",
       " 0.6294117647058823,\n",
       " 0.6280701754385964,\n",
       " 0.6354651162790698,\n",
       " 0.630635838150289,\n",
       " 0.6281609195402299,\n",
       " 0.6297142857142857,\n",
       " 0.6306818181818182,\n",
       " 0.6350282485875707,\n",
       " 0.6331460674157303,\n",
       " 0.641340782122905,\n",
       " 0.6394444444444445,\n",
       " 0.6287292817679558,\n",
       " 0.6324175824175824,\n",
       " 0.6333333333333333,\n",
       " 0.6391304347826087,\n",
       " 0.6427027027027027,\n",
       " 0.6333333333333333,\n",
       " 0.6299465240641712,\n",
       " 0.6281914893617021,\n",
       " 0.6285714285714286,\n",
       " 0.628421052631579,\n",
       " 0.6340314136125654,\n",
       " 0.6317708333333333,\n",
       " 0.6476683937823834,\n",
       " 0.6262886597938144,\n",
       " 0.6384615384615384,\n",
       " 0.6357142857142857,\n",
       " 0.6279187817258883,\n",
       " 0.6282828282828283,\n",
       " 0.6487437185929649]"
      ]
     },
     "execution_count": 5,
     "metadata": {},
     "output_type": "execute_result"
    }
   ],
   "source": [
    "percent_of_original"
   ]
  },
  {
   "cell_type": "code",
   "execution_count": 4,
   "metadata": {},
   "outputs": [
    {
     "data": {
      "text/plain": [
       "0.6302834455630666"
      ]
     },
     "execution_count": 4,
     "metadata": {},
     "output_type": "execute_result"
    }
   ],
   "source": [
    "sum(percent_of_original)/len(percent_of_original)"
   ]
  },
  {
   "cell_type": "code",
   "execution_count": null,
   "metadata": {},
   "outputs": [],
   "source": []
  }
 ],
 "metadata": {
  "kernelspec": {
   "display_name": "Python 3",
   "language": "python",
   "name": "python3"
  },
  "language_info": {
   "codemirror_mode": {
    "name": "ipython",
    "version": 3
   },
   "file_extension": ".py",
   "mimetype": "text/x-python",
   "name": "python",
   "nbconvert_exporter": "python",
   "pygments_lexer": "ipython3",
   "version": "3.6.10"
  }
 },
 "nbformat": 4,
 "nbformat_minor": 2
}
