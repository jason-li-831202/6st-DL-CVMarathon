{
 "cells": [
  {
   "cell_type": "markdown",
   "metadata": {},
   "source": [
    "# 在範例, 我們建立一個網路來觀看因為網路參數變動而導致輸出變動\n",
    "\n",
    "# 所以, 我們在進階的部分, 我們建立一個反向式傳播演算法訓練的神經網路"
   ]
  },
  {
   "cell_type": "markdown",
   "metadata": {},
   "source": [
    "# 目標:\n",
    "\n",
    "建立一個反向式傳播演算法的神經網路, 嘗試著用輸入去預測輸出, 了解權重的更新\n",
    " \n",
    "考慮以上情形：\n",
    "\n",
    "給定輸入，試著去預測相對應的輸出。\n",
    "\n",
    "我們可以通過簡單測量輸入與輸出值的資料來解決這一問題。\n",
    "\n",
    "最左邊的一列輸入值和輸出值是完美匹配/完全相關的。\n",
    "\n",
    "# 反向傳播演算法便是通過這種方式來衡量資料間統計關係進而得到模型的。\n"
   ]
  },
  {
   "cell_type": "markdown",
   "metadata": {},
   "source": [
    "# 參數定義\n",
    "\n",
    "X\t輸入資料集，形式為矩陣，每 1 列代表 1 個訓練樣本。\n",
    "\n",
    "y\t輸出資料集，形式為矩陣，每 1 列代表 1 個訓練樣本。\n",
    "\n",
    "l0\t網路第 1 層，即網路輸入層。\n",
    "\n",
    "l1\t網路第 2 層，常稱作隱藏層。\n",
    "\n",
    "syn0\t第一層權值，突觸 0 ，連接 l0 層與 l1 層。\n",
    "\n",
    "# 運算子說明:\n",
    "\n",
    "(*)\t元素相乘，故兩等長向量相乘等同於其對等元素分別相乘，結果為同等長度的向量。\n",
    "\n",
    "(–)\t元素相減，故兩等長向量相減等同於其對等元素分別相減，結果為同等長度的向量。\n",
    "\n",
    "x.dot(y)\t若 x 和 y 為向量，則進行點積操作；若均為矩陣，則進行矩陣相乘操作；若其中之一為矩陣，則進行向量與矩陣相乘操作。\n"
   ]
  },
  {
   "cell_type": "code",
   "execution_count": 1,
   "metadata": {},
   "outputs": [],
   "source": [
    "import numpy as np\n",
    " \n",
    "# Sigmoid 函數可以將任何值都映射到一個位於 0 到  1 範圍內的值。通過它，我們可以將實數轉化為概率值\n",
    "'''\n",
    "定義數學函數:\n",
    "y=f(x) = 1/(1+np.exp(-x));\n",
    "\n",
    "針對此一數學函數做df:\n",
    "dy/dx = df = x*(1-x) \n",
    "\n",
    "利用 deriv (derivative)做變數, 來分別指定方程式\n",
    "'''    \n",
    "\n",
    "def nonlin(x,deriv=False):\n",
    "    if(deriv==True):\n",
    "        return x*(1-x)\n",
    "    return 1/(1+np.exp(-x))\n",
    "'''\n",
    "通過 “nonlin” 函數體還能得到 sigmod 函數的導數（當形參 deriv 為 True 時）。\n",
    "Sigmoid 函數優異特性之一，在於只用它的輸出值便可以得到其導數值。\n",
    "若 Sigmoid 的輸出值用變數 out 表示，則其導數值可簡單通過式子 out *(1-out) \n",
    "'''\n",
    "\n",
    "'''\n",
    "input dataset\n",
    "輸入資料集初始化為 numpy 中的矩陣。每一列為一個“訓練實例”，\n",
    "每一行的對應著一個輸入節點。這樣，我們的神經網路便有4 個訓練實例 3 個輸入節點。\n",
    "'''\n",
    "X = np.array([  [0,0,1],\n",
    "                [0,1,1],\n",
    "                [1,0,1],\n",
    "                [1,1,1] ])  \n",
    "        \n",
    "# define output dataset \n",
    "y = np.array([[0,0,1,1]]).T\n",
    "\n",
    "'''\n",
    "輸出資料集進行初始化\n",
    "該  y  矩陣便包含 4 行 1 列。\n",
    ".T” 為轉置函數。\n",
    "同我們的輸入一致，每一列是一個訓練實例，而每一行對應一個輸出節點。\n",
    "因此，我們的網路含有 3 個輸入， 1 個輸出\n",
    "'''\n",
    "\n",
    "# seed random numbers to make calculation\n",
    "# deterministic (just a good practice)\n",
    "np.random.seed(1)\n",
    "#亂數設定產生種子得到的權重初始化集仍是隨機分佈的，\n",
    "#但每次開始訓練時，得到的權重初始集分佈都是完全一致的。\n",
    " \n",
    "# initialize weights randomly with mean 0\n",
    "syn0 = 2*np.random.random((3,1)) - 1\n",
    "iter = 0\n",
    "\n",
    "syn0_history = [syn0]\n",
    "#該神經網路權重矩陣的初始化操作。\n",
    "#用 “syn0” 來代指 (即“輸入層-第一層隱層”間權重矩陣）\n"
   ]
  },
  {
   "cell_type": "markdown",
   "metadata": {},
   "source": [
    "# 神經網路訓練\n",
    "for 迴圈反覆運算式地多次執行訓練代碼，使得我們的網路能更好地擬合訓練集"
   ]
  },
  {
   "cell_type": "code",
   "execution_count": 2,
   "metadata": {},
   "outputs": [
    {
     "name": "stdout",
     "output_type": "stream",
     "text": [
      "Output After Training:\n",
      "\n",
      "\n",
      "[[0.00966449]\n",
      " [0.00786506]\n",
      " [0.99358898]\n",
      " [0.99211957]]\n"
     ]
    }
   ],
   "source": [
    "for iter in range(10000):\n",
    "    # forward propagation\n",
    "    l0 = X\n",
    "    l1 = nonlin(np.dot(l0,syn0))\n",
    "    \n",
    "    '''\n",
    "    首先讓網路基於給定輸入“試著”去預測輸出。\n",
    "    以至於作出一些調整，使得在每次反覆運算過程中網路能夠表現地更好一點。\n",
    "    (4 x 3) dot (3 x 1) = (4 x 1)\n",
    "    本行程式包含兩個步驟。首先，將 l0 與 syn0 進行矩陣相乘。\n",
    "    然後，將計算結果傳遞給 sigmoid 函數。具體考慮到各個矩陣的維度：\n",
    "    (4 x 3) dot (3 x 1) = (4 x 1)\n",
    "    '''\n",
    " \n",
    "    # how much did we miss?\n",
    "    l1_error = y - l1\n",
    " \n",
    "    # multiply how much we missed by the \n",
    "    # slope of the sigmoid at the values in l1\n",
    "    l1_delta = l1_error * nonlin(l1,True)\n",
    "    \n",
    "    '''\n",
    "    對於每一輸入，可知 l1 都有對應的一個“猜測”結果。那麼通過將真實的結果（y）與猜測結果（l1）作減，\n",
    "    就可以對比得到網路預測的效果怎麼樣。\n",
    "    l1_error 是一個有正數和負數組成的向量，它可以反映出網路的誤差有多大\n",
    "    '''\n",
    "    # update weights\n",
    "    syn0 += np.dot(l0.T,l1_delta)\n",
    "    \n",
    "print(\"Output After Training:\")\n",
    "print(\"\\n\")\n",
    "print(l1)"
   ]
  },
  {
   "cell_type": "code",
   "execution_count": 3,
   "metadata": {},
   "outputs": [
    {
     "data": {
      "image/png": "[encoded data removed]",
      "text/plain": [
       "<Figure size 432x288 with 1 Axes>"
      ]
     },
     "metadata": {
      "needs_background": "light"
     },
     "output_type": "display_data"
    }
   ],
   "source": [
    "import matplotlib.pyplot as plt\n",
    "%matplotlib inline \n",
    "#適用於 Jupyter Notebook, 宣告直接在cell 內印出執行結果\n",
    "\n",
    "plt.plot(syn0_history[0], ms=3, lw=1.5, color='black')\n",
    "plt.xlabel(r'$L1$', fontsize=16)\n",
    "plt.show()"
   ]
  },
  {
   "cell_type": "code",
   "execution_count": null,
   "metadata": {},
   "outputs": [],
   "source": []
  }
 ],
 "metadata": {
  "kernelspec": {
   "display_name": "Python 3",
   "language": "python",
   "name": "python3"
  },
  "language_info": {
   "codemirror_mode": {
    "name": "ipython",
    "version": 3
   },
   "file_extension": ".py",
   "mimetype": "text/x-python",
   "name": "python",
   "nbconvert_exporter": "python",
   "pygments_lexer": "ipython3",
   "version": "3.6.10"
  }
 },
 "nbformat": 4,
 "nbformat_minor": 2
}
