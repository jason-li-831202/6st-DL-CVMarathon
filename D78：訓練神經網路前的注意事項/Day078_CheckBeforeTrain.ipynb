{
 "cells": [
  {
   "cell_type": "markdown",
   "metadata": {},
   "source": [
    "## 範例重點\n",
    "### 學習在模型開始前檢查各個環節\n",
    "1. 是否有 GPU 資源\n",
    "2. 將前處理轉為函式，統一處理訓練、驗證與測試集\n",
    "3. 將超參數變數化，易於重複使用函式、模型等"
   ]
  },
  {
   "cell_type": "code",
   "execution_count": 1,
   "metadata": {},
   "outputs": [
    {
     "name": "stderr",
     "output_type": "stream",
     "text": [
      "'nvidia-smi' 不是內部或外部命令、可執行的程式或批次檔。\n"
     ]
    }
   ],
   "source": [
    "## 確認硬體資源 (如果你是在 Linux, 若是在 Windows, 請參考 https://blog.csdn.net/idwtwt/article/details/78017565)\n",
    "!nvidia-smi"
   ]
  },
  {
   "cell_type": "code",
   "execution_count": 2,
   "metadata": {},
   "outputs": [
    {
     "name": "stderr",
     "output_type": "stream",
     "text": [
      "Using TensorFlow backend.\n",
      "C:\\Users\\zuoo5\\Anaconda3\\envs\\tensorflow-gpu\\lib\\site-packages\\tensorflow\\python\\framework\\dtypes.py:523: FutureWarning: Passing (type, 1) or '1type' as a synonym of type is deprecated; in a future version of numpy, it will be understood as (type, (1,)) / '(1,)type'.\n",
      "  _np_qint8 = np.dtype([(\"qint8\", np.int8, 1)])\n",
      "C:\\Users\\zuoo5\\Anaconda3\\envs\\tensorflow-gpu\\lib\\site-packages\\tensorflow\\python\\framework\\dtypes.py:524: FutureWarning: Passing (type, 1) or '1type' as a synonym of type is deprecated; in a future version of numpy, it will be understood as (type, (1,)) / '(1,)type'.\n",
      "  _np_quint8 = np.dtype([(\"quint8\", np.uint8, 1)])\n",
      "C:\\Users\\zuoo5\\Anaconda3\\envs\\tensorflow-gpu\\lib\\site-packages\\tensorflow\\python\\framework\\dtypes.py:525: FutureWarning: Passing (type, 1) or '1type' as a synonym of type is deprecated; in a future version of numpy, it will be understood as (type, (1,)) / '(1,)type'.\n",
      "  _np_qint16 = np.dtype([(\"qint16\", np.int16, 1)])\n",
      "C:\\Users\\zuoo5\\Anaconda3\\envs\\tensorflow-gpu\\lib\\site-packages\\tensorflow\\python\\framework\\dtypes.py:526: FutureWarning: Passing (type, 1) or '1type' as a synonym of type is deprecated; in a future version of numpy, it will be understood as (type, (1,)) / '(1,)type'.\n",
      "  _np_quint16 = np.dtype([(\"quint16\", np.uint16, 1)])\n",
      "C:\\Users\\zuoo5\\Anaconda3\\envs\\tensorflow-gpu\\lib\\site-packages\\tensorflow\\python\\framework\\dtypes.py:527: FutureWarning: Passing (type, 1) or '1type' as a synonym of type is deprecated; in a future version of numpy, it will be understood as (type, (1,)) / '(1,)type'.\n",
      "  _np_qint32 = np.dtype([(\"qint32\", np.int32, 1)])\n",
      "C:\\Users\\zuoo5\\Anaconda3\\envs\\tensorflow-gpu\\lib\\site-packages\\tensorflow\\python\\framework\\dtypes.py:532: FutureWarning: Passing (type, 1) or '1type' as a synonym of type is deprecated; in a future version of numpy, it will be understood as (type, (1,)) / '(1,)type'.\n",
      "  np_resource = np.dtype([(\"resource\", np.ubyte, 1)])\n"
     ]
    }
   ],
   "source": [
    "import os\n",
    "import keras\n",
    "\n",
    "# 本範例不需使用 GPU, 將 GPU 設定為 \"無\"\n",
    "os.environ[\"CUDA_VISIBLE_DEVICES\"] = \"0\""
   ]
  },
  {
   "cell_type": "code",
   "execution_count": 3,
   "metadata": {},
   "outputs": [],
   "source": [
    "# 從 Keras 的內建功能中，取得 train 與 test 資料集\n",
    "train, test = keras.datasets.cifar10.load_data()"
   ]
  },
  {
   "cell_type": "code",
   "execution_count": 4,
   "metadata": {},
   "outputs": [],
   "source": [
    "## 資料前處理\n",
    "def preproc_x(x, flatten=True):\n",
    "    x = x / 255.\n",
    "    if flatten:\n",
    "        x = x.reshape((len(x), -1))\n",
    "    return x\n",
    "\n",
    "def preproc_y(y, num_classes=10):\n",
    "    if y.shape[-1] == 1:\n",
    "        y = keras.utils.to_categorical(y, num_classes)\n",
    "    return y    "
   ]
  },
  {
   "cell_type": "code",
   "execution_count": 5,
   "metadata": {},
   "outputs": [],
   "source": [
    "x_train, y_train = train\n",
    "x_test, y_test = test\n",
    "\n",
    "# 資料前處理 - X 標準化\n",
    "x_train = preproc_x(x_train)\n",
    "x_test = preproc_x(x_test)\n",
    "\n",
    "# 資料前處理 -Y 轉成 onehot\n",
    "y_train = preproc_y(y_train)\n",
    "y_test = preproc_y(y_test)"
   ]
  },
  {
   "cell_type": "code",
   "execution_count": 6,
   "metadata": {},
   "outputs": [],
   "source": [
    "def build_mlp(input_shape, output_units=10, num_neurons=[512, 256, 128]):\n",
    "    input_layer = keras.layers.Input(input_shape)\n",
    "    \n",
    "    for i, n_units in enumerate(num_neurons):\n",
    "        if i == 0:\n",
    "            x = keras.layers.Dense(units=n_units, activation=\"relu\", name=\"hidden_layer\"+str(i+1))(input_layer)\n",
    "        else:\n",
    "            x = keras.layers.Dense(units=n_units, activation=\"relu\", name=\"hidden_layer\"+str(i+1))(x)\n",
    "    \n",
    "    out = keras.layers.Dense(units=output_units, activation=\"softmax\", name=\"output\")(x)\n",
    "    \n",
    "    model = keras.models.Model(inputs=[input_layer], outputs=[out])\n",
    "    return model"
   ]
  },
  {
   "cell_type": "code",
   "execution_count": 7,
   "metadata": {},
   "outputs": [
    {
     "name": "stdout",
     "output_type": "stream",
     "text": [
      "_________________________________________________________________\n",
      "Layer (type)                 Output Shape              Param #   \n",
      "=================================================================\n",
      "input_1 (InputLayer)         (None, 3072)              0         \n",
      "_________________________________________________________________\n",
      "hidden_layer1 (Dense)        (None, 512)               1573376   \n",
      "_________________________________________________________________\n",
      "hidden_layer2 (Dense)        (None, 256)               131328    \n",
      "_________________________________________________________________\n",
      "hidden_layer3 (Dense)        (None, 128)               32896     \n",
      "_________________________________________________________________\n",
      "output (Dense)               (None, 10)                1290      \n",
      "=================================================================\n",
      "Total params: 1,738,890\n",
      "Trainable params: 1,738,890\n",
      "Non-trainable params: 0\n",
      "_________________________________________________________________\n"
     ]
    }
   ],
   "source": [
    "model = build_mlp(input_shape=x_train.shape[1:])\n",
    "model.summary()"
   ]
  },
  {
   "cell_type": "code",
   "execution_count": 8,
   "metadata": {},
   "outputs": [],
   "source": [
    "## 超參數設定\n",
    "LEARNING_RATE = 0.001\n",
    "EPOCHS = 100\n",
    "BATCH_SIZE = 256"
   ]
  },
  {
   "cell_type": "code",
   "execution_count": 9,
   "metadata": {},
   "outputs": [],
   "source": [
    "optimizer = keras.optimizers.Adam(lr=LEARNING_RATE)\n",
    "model.compile(loss=\"categorical_crossentropy\", metrics=[\"accuracy\"], optimizer=optimizer)"
   ]
  },
  {
   "cell_type": "code",
   "execution_count": 10,
   "metadata": {},
   "outputs": [
    {
     "name": "stdout",
     "output_type": "stream",
     "text": [
      "Train on 50000 samples, validate on 10000 samples\n",
      "Epoch 1/100\n",
      "50000/50000 [==============================] - 22s 436us/step - loss: 1.9244 - acc: 0.3076 - val_loss: 1.7482 - val_acc: 0.3748\n",
      "Epoch 2/100\n",
      "50000/50000 [==============================] - 4s 71us/step - loss: 1.7071 - acc: 0.3897 - val_loss: 1.6312 - val_acc: 0.4216\n",
      "Epoch 3/100\n",
      "50000/50000 [==============================] - 4s 71us/step - loss: 1.6164 - acc: 0.4223 - val_loss: 1.6209 - val_acc: 0.4202\n",
      "Epoch 4/100\n",
      "50000/50000 [==============================] - 4s 71us/step - loss: 1.5512 - acc: 0.4480 - val_loss: 1.5318 - val_acc: 0.4511\n",
      "Epoch 5/100\n",
      "50000/50000 [==============================] - 4s 71us/step - loss: 1.5087 - acc: 0.4608 - val_loss: 1.4786 - val_acc: 0.4771\n",
      "Epoch 6/100\n",
      "50000/50000 [==============================] - 4s 71us/step - loss: 1.4691 - acc: 0.4789 - val_loss: 1.5070 - val_acc: 0.4658\n",
      "Epoch 7/100\n",
      "50000/50000 [==============================] - 4s 71us/step - loss: 1.4377 - acc: 0.4890 - val_loss: 1.4813 - val_acc: 0.4685\n",
      "Epoch 8/100\n",
      "50000/50000 [==============================] - 4s 75us/step - loss: 1.4089 - acc: 0.4994 - val_loss: 1.4482 - val_acc: 0.4809\n",
      "Epoch 9/100\n",
      "50000/50000 [==============================] - 4s 70us/step - loss: 1.3823 - acc: 0.5083 - val_loss: 1.4160 - val_acc: 0.4976\n",
      "Epoch 10/100\n",
      "50000/50000 [==============================] - 4s 70us/step - loss: 1.3540 - acc: 0.5171 - val_loss: 1.4358 - val_acc: 0.4896\n",
      "Epoch 11/100\n",
      "50000/50000 [==============================] - 4s 72us/step - loss: 1.3195 - acc: 0.5306 - val_loss: 1.3976 - val_acc: 0.5008\n",
      "Epoch 12/100\n",
      "50000/50000 [==============================] - 4s 72us/step - loss: 1.2965 - acc: 0.5364 - val_loss: 1.4236 - val_acc: 0.4963\n",
      "Epoch 13/100\n",
      "50000/50000 [==============================] - 4s 71us/step - loss: 1.2762 - acc: 0.5450 - val_loss: 1.3892 - val_acc: 0.5071\n",
      "Epoch 14/100\n",
      "50000/50000 [==============================] - 4s 71us/step - loss: 1.2543 - acc: 0.5537 - val_loss: 1.3644 - val_acc: 0.5131\n",
      "Epoch 15/100\n",
      "50000/50000 [==============================] - 4s 72us/step - loss: 1.2310 - acc: 0.5604 - val_loss: 1.4805 - val_acc: 0.4861\n",
      "Epoch 16/100\n",
      "50000/50000 [==============================] - 4s 71us/step - loss: 1.2141 - acc: 0.5668 - val_loss: 1.4438 - val_acc: 0.4946\n",
      "Epoch 17/100\n",
      "50000/50000 [==============================] - 3s 70us/step - loss: 1.1886 - acc: 0.5771 - val_loss: 1.3623 - val_acc: 0.5169\n",
      "Epoch 18/100\n",
      "50000/50000 [==============================] - 4s 71us/step - loss: 1.1703 - acc: 0.5832 - val_loss: 1.3994 - val_acc: 0.5169\n",
      "Epoch 19/100\n",
      "50000/50000 [==============================] - 4s 71us/step - loss: 1.1529 - acc: 0.5883 - val_loss: 1.4050 - val_acc: 0.5072 1.1569 -\n",
      "Epoch 20/100\n",
      "50000/50000 [==============================] - 4s 71us/step - loss: 1.1252 - acc: 0.5975 - val_loss: 1.4123 - val_acc: 0.5078\n",
      "Epoch 21/100\n",
      "50000/50000 [==============================] - 4s 71us/step - loss: 1.1060 - acc: 0.6047 - val_loss: 1.4146 - val_acc: 0.5158\n",
      "Epoch 22/100\n",
      "50000/50000 [==============================] - 4s 71us/step - loss: 1.0936 - acc: 0.6111 - val_loss: 1.3492 - val_acc: 0.5325\n",
      "Epoch 23/100\n",
      "50000/50000 [==============================] - 4s 72us/step - loss: 1.0697 - acc: 0.6176 - val_loss: 1.3654 - val_acc: 0.5272\n",
      "Epoch 24/100\n",
      "50000/50000 [==============================] - 4s 71us/step - loss: 1.0409 - acc: 0.6292 - val_loss: 1.4095 - val_acc: 0.5215\n",
      "Epoch 25/100\n",
      "50000/50000 [==============================] - 4s 71us/step - loss: 1.0288 - acc: 0.6319 - val_loss: 1.4608 - val_acc: 0.5123\n",
      "Epoch 26/100\n",
      "50000/50000 [==============================] - 4s 73us/step - loss: 1.0084 - acc: 0.6408 - val_loss: 1.4101 - val_acc: 0.5269\n",
      "Epoch 27/100\n",
      "50000/50000 [==============================] - 4s 74us/step - loss: 0.9911 - acc: 0.6480 - val_loss: 1.3842 - val_acc: 0.5313\n",
      "Epoch 28/100\n",
      "50000/50000 [==============================] - 4s 73us/step - loss: 0.9714 - acc: 0.6512 - val_loss: 1.4198 - val_acc: 0.5235\n",
      "Epoch 29/100\n",
      "50000/50000 [==============================] - 4s 77us/step - loss: 0.9561 - acc: 0.6572 - val_loss: 1.4381 - val_acc: 0.5215\n",
      "Epoch 30/100\n",
      "50000/50000 [==============================] - 4s 75us/step - loss: 0.9386 - acc: 0.6657 - val_loss: 1.4750 - val_acc: 0.5248\n",
      "Epoch 31/100\n",
      "50000/50000 [==============================] - 4s 71us/step - loss: 0.9098 - acc: 0.6746 - val_loss: 1.4452 - val_acc: 0.5270\n",
      "Epoch 32/100\n",
      "50000/50000 [==============================] - 4s 80us/step - loss: 0.9013 - acc: 0.6763 - val_loss: 1.5541 - val_acc: 0.5041\n",
      "Epoch 33/100\n",
      "50000/50000 [==============================] - 4s 70us/step - loss: 0.8954 - acc: 0.6796 - val_loss: 1.4497 - val_acc: 0.5244\n",
      "Epoch 34/100\n",
      "50000/50000 [==============================] - 4s 70us/step - loss: 0.8647 - acc: 0.6905 - val_loss: 1.4918 - val_acc: 0.5230\n",
      "Epoch 35/100\n",
      "50000/50000 [==============================] - 4s 72us/step - loss: 0.8518 - acc: 0.6957 - val_loss: 1.5301 - val_acc: 0.5198\n",
      "Epoch 36/100\n",
      "50000/50000 [==============================] - 4s 71us/step - loss: 0.8337 - acc: 0.7008 - val_loss: 1.5474 - val_acc: 0.5161\n",
      "Epoch 37/100\n",
      "50000/50000 [==============================] - 4s 71us/step - loss: 0.8232 - acc: 0.7058 - val_loss: 1.5107 - val_acc: 0.5257\n",
      "Epoch 38/100\n",
      "50000/50000 [==============================] - 4s 70us/step - loss: 0.8079 - acc: 0.7109 - val_loss: 1.5808 - val_acc: 0.5267\n",
      "Epoch 39/100\n",
      "50000/50000 [==============================] - 3s 70us/step - loss: 0.7938 - acc: 0.7150 - val_loss: 1.5328 - val_acc: 0.5236\n",
      "Epoch 40/100\n",
      "50000/50000 [==============================] - 4s 70us/step - loss: 0.7723 - acc: 0.7227 - val_loss: 1.5539 - val_acc: 0.5301\n",
      "Epoch 41/100\n",
      "50000/50000 [==============================] - 4s 70us/step - loss: 0.7594 - acc: 0.7280 - val_loss: 1.5973 - val_acc: 0.5242\n",
      "Epoch 42/100\n",
      "50000/50000 [==============================] - 4s 70us/step - loss: 0.7584 - acc: 0.7298 - val_loss: 1.5969 - val_acc: 0.5260\n",
      "Epoch 43/100\n",
      "50000/50000 [==============================] - 4s 70us/step - loss: 0.7199 - acc: 0.7428 - val_loss: 1.5953 - val_acc: 0.5358\n",
      "Epoch 44/100\n",
      "50000/50000 [==============================] - 4s 70us/step - loss: 0.6986 - acc: 0.7511 - val_loss: 1.6772 - val_acc: 0.5219\n",
      "Epoch 45/100\n",
      "50000/50000 [==============================] - 4s 75us/step - loss: 0.7156 - acc: 0.7437 - val_loss: 1.6514 - val_acc: 0.5166\n",
      "Epoch 46/100\n",
      "50000/50000 [==============================] - 4s 83us/step - loss: 0.6780 - acc: 0.7579 - val_loss: 1.6582 - val_acc: 0.5255\n",
      "Epoch 47/100\n",
      "50000/50000 [==============================] - 4s 72us/step - loss: 0.6644 - acc: 0.7627 - val_loss: 1.7155 - val_acc: 0.5219\n",
      "Epoch 48/100\n",
      "50000/50000 [==============================] - 4s 72us/step - loss: 0.6500 - acc: 0.7682 - val_loss: 1.7438 - val_acc: 0.5164\n",
      "Epoch 49/100\n",
      "50000/50000 [==============================] - 4s 76us/step - loss: 0.6464 - acc: 0.7685 - val_loss: 1.7595 - val_acc: 0.5138\n",
      "Epoch 50/100\n",
      "50000/50000 [==============================] - 4s 73us/step - loss: 0.6216 - acc: 0.7783 - val_loss: 1.7858 - val_acc: 0.5195\n",
      "Epoch 51/100\n",
      "50000/50000 [==============================] - 4s 71us/step - loss: 0.6124 - acc: 0.7792 - val_loss: 1.8235 - val_acc: 0.5180\n",
      "Epoch 52/100\n",
      "50000/50000 [==============================] - 4s 70us/step - loss: 0.6001 - acc: 0.7859 - val_loss: 1.8599 - val_acc: 0.5169\n",
      "Epoch 53/100\n",
      "50000/50000 [==============================] - 4s 70us/step - loss: 0.6036 - acc: 0.7844 - val_loss: 1.8647 - val_acc: 0.5148\n",
      "Epoch 54/100\n",
      "50000/50000 [==============================] - 4s 72us/step - loss: 0.5850 - acc: 0.7902 - val_loss: 1.8886 - val_acc: 0.5213\n",
      "Epoch 55/100\n",
      "50000/50000 [==============================] - 4s 71us/step - loss: 0.5815 - acc: 0.7888 - val_loss: 1.9181 - val_acc: 0.5130\n",
      "Epoch 56/100\n",
      "50000/50000 [==============================] - 3s 69us/step - loss: 0.5505 - acc: 0.8031 - val_loss: 1.9775 - val_acc: 0.5052\n",
      "Epoch 57/100\n",
      "50000/50000 [==============================] - 4s 71us/step - loss: 0.5501 - acc: 0.8014 - val_loss: 1.9778 - val_acc: 0.5201\n",
      "Epoch 58/100\n",
      "50000/50000 [==============================] - 4s 71us/step - loss: 0.5326 - acc: 0.8093 - val_loss: 1.9786 - val_acc: 0.5096\n",
      "Epoch 59/100\n"
     ]
    },
    {
     "name": "stdout",
     "output_type": "stream",
     "text": [
      "50000/50000 [==============================] - 4s 72us/step - loss: 0.5386 - acc: 0.8056 - val_loss: 2.0831 - val_acc: 0.5126\n",
      "Epoch 60/100\n",
      "50000/50000 [==============================] - 4s 71us/step - loss: 0.5305 - acc: 0.8082 - val_loss: 2.0628 - val_acc: 0.5111\n",
      "Epoch 61/100\n",
      "50000/50000 [==============================] - 4s 71us/step - loss: 0.5142 - acc: 0.8142 - val_loss: 2.1052 - val_acc: 0.5100\n",
      "Epoch 62/100\n",
      "50000/50000 [==============================] - 4s 73us/step - loss: 0.4988 - acc: 0.8208 - val_loss: 2.1687 - val_acc: 0.5030\n",
      "Epoch 63/100\n",
      "50000/50000 [==============================] - 4s 71us/step - loss: 0.4933 - acc: 0.8243 - val_loss: 2.1698 - val_acc: 0.5024\n",
      "Epoch 64/100\n",
      "50000/50000 [==============================] - 4s 71us/step - loss: 0.4933 - acc: 0.8233 - val_loss: 2.1678 - val_acc: 0.5150\n",
      "Epoch 65/100\n",
      "50000/50000 [==============================] - 4s 71us/step - loss: 0.4764 - acc: 0.8295 - val_loss: 2.2030 - val_acc: 0.5077\n",
      "Epoch 66/100\n",
      "50000/50000 [==============================] - 4s 70us/step - loss: 0.4675 - acc: 0.8334 - val_loss: 2.2293 - val_acc: 0.5066\n",
      "Epoch 67/100\n",
      "50000/50000 [==============================] - 4s 75us/step - loss: 0.4540 - acc: 0.8383 - val_loss: 2.2816 - val_acc: 0.5112\n",
      "Epoch 68/100\n",
      "50000/50000 [==============================] - 3s 69us/step - loss: 0.4637 - acc: 0.8325 - val_loss: 2.3102 - val_acc: 0.5087\n",
      "Epoch 69/100\n",
      "50000/50000 [==============================] - 4s 72us/step - loss: 0.4477 - acc: 0.8395 - val_loss: 2.2874 - val_acc: 0.5028\n",
      "Epoch 70/100\n",
      "50000/50000 [==============================] - 4s 70us/step - loss: 0.4450 - acc: 0.8401 - val_loss: 2.3303 - val_acc: 0.5086\n",
      "Epoch 71/100\n",
      "50000/50000 [==============================] - 4s 71us/step - loss: 0.4319 - acc: 0.8438 - val_loss: 2.3641 - val_acc: 0.5007\n",
      "Epoch 72/100\n",
      "50000/50000 [==============================] - 4s 71us/step - loss: 0.4149 - acc: 0.8516 - val_loss: 2.3418 - val_acc: 0.5174\n",
      "Epoch 73/100\n",
      "50000/50000 [==============================] - 3s 69us/step - loss: 0.4144 - acc: 0.8506 - val_loss: 2.5083 - val_acc: 0.4985\n",
      "Epoch 74/100\n",
      "50000/50000 [==============================] - 4s 70us/step - loss: 0.4081 - acc: 0.8526 - val_loss: 2.4683 - val_acc: 0.5060\n",
      "Epoch 75/100\n",
      "50000/50000 [==============================] - 4s 70us/step - loss: 0.3988 - acc: 0.8564 - val_loss: 2.4467 - val_acc: 0.5110\n",
      "Epoch 76/100\n",
      "50000/50000 [==============================] - 4s 71us/step - loss: 0.4004 - acc: 0.8579 - val_loss: 2.4718 - val_acc: 0.5146\n",
      "Epoch 77/100\n",
      "50000/50000 [==============================] - 4s 70us/step - loss: 0.3859 - acc: 0.8614 - val_loss: 2.5386 - val_acc: 0.5012\n",
      "Epoch 78/100\n",
      "50000/50000 [==============================] - 4s 71us/step - loss: 0.3658 - acc: 0.8681 - val_loss: 2.5196 - val_acc: 0.5122\n",
      "Epoch 79/100\n",
      "50000/50000 [==============================] - 4s 71us/step - loss: 0.3707 - acc: 0.8675 - val_loss: 2.5700 - val_acc: 0.5099\n",
      "Epoch 80/100\n",
      "50000/50000 [==============================] - 4s 70us/step - loss: 0.3558 - acc: 0.8738 - val_loss: 2.5554 - val_acc: 0.5074\n",
      "Epoch 81/100\n",
      "50000/50000 [==============================] - 4s 71us/step - loss: 0.3655 - acc: 0.8697 - val_loss: 2.6681 - val_acc: 0.5085\n",
      "Epoch 82/100\n",
      "50000/50000 [==============================] - 4s 71us/step - loss: 0.3757 - acc: 0.8644 - val_loss: 2.5887 - val_acc: 0.5051\n",
      "Epoch 83/100\n",
      "50000/50000 [==============================] - 4s 71us/step - loss: 0.3500 - acc: 0.8746 - val_loss: 2.7006 - val_acc: 0.5047\n",
      "Epoch 84/100\n",
      "50000/50000 [==============================] - 4s 73us/step - loss: 0.3579 - acc: 0.8703 - val_loss: 2.7248 - val_acc: 0.5051\n",
      "Epoch 85/100\n",
      "50000/50000 [==============================] - 3s 69us/step - loss: 0.3511 - acc: 0.8755 - val_loss: 2.6453 - val_acc: 0.4992\n",
      "Epoch 86/100\n",
      "50000/50000 [==============================] - 4s 71us/step - loss: 0.3137 - acc: 0.8884 - val_loss: 2.7898 - val_acc: 0.5066\n",
      "Epoch 87/100\n",
      "50000/50000 [==============================] - 4s 71us/step - loss: 0.3366 - acc: 0.8784 - val_loss: 2.8061 - val_acc: 0.4946\n",
      "Epoch 88/100\n",
      "50000/50000 [==============================] - 4s 71us/step - loss: 0.3196 - acc: 0.8854 - val_loss: 2.9001 - val_acc: 0.4980\n",
      "Epoch 89/100\n",
      "50000/50000 [==============================] - 4s 70us/step - loss: 0.3215 - acc: 0.8852 - val_loss: 2.9351 - val_acc: 0.5074\n",
      "Epoch 90/100\n",
      "50000/50000 [==============================] - 4s 71us/step - loss: 0.3040 - acc: 0.8909 - val_loss: 2.9627 - val_acc: 0.5038\n",
      "Epoch 91/100\n",
      "50000/50000 [==============================] - 4s 70us/step - loss: 0.3059 - acc: 0.8904 - val_loss: 2.9176 - val_acc: 0.5078\n",
      "Epoch 92/100\n",
      "50000/50000 [==============================] - 4s 70us/step - loss: 0.2990 - acc: 0.8924 - val_loss: 2.9185 - val_acc: 0.5043\n",
      "Epoch 93/100\n",
      "50000/50000 [==============================] - 4s 71us/step - loss: 0.3227 - acc: 0.8825 - val_loss: 2.9321 - val_acc: 0.5060\n",
      "Epoch 94/100\n",
      "50000/50000 [==============================] - 4s 71us/step - loss: 0.3030 - acc: 0.8897 - val_loss: 3.0056 - val_acc: 0.4970\n",
      "Epoch 95/100\n",
      "50000/50000 [==============================] - 4s 71us/step - loss: 0.3078 - acc: 0.8898 - val_loss: 2.9092 - val_acc: 0.5036\n",
      "Epoch 96/100\n",
      "50000/50000 [==============================] - 4s 71us/step - loss: 0.3034 - acc: 0.8903 - val_loss: 3.0260 - val_acc: 0.5021\n",
      "Epoch 97/100\n",
      "50000/50000 [==============================] - 4s 70us/step - loss: 0.2869 - acc: 0.8965 - val_loss: 3.0677 - val_acc: 0.5005\n",
      "Epoch 98/100\n",
      "50000/50000 [==============================] - 4s 71us/step - loss: 0.2721 - acc: 0.9011 - val_loss: 3.0066 - val_acc: 0.5050\n",
      "Epoch 99/100\n",
      "50000/50000 [==============================] - 4s 71us/step - loss: 0.3030 - acc: 0.8914 - val_loss: 3.0409 - val_acc: 0.5051\n",
      "Epoch 100/100\n",
      "50000/50000 [==============================] - 4s 70us/step - loss: 0.2760 - acc: 0.8995 - val_loss: 3.0772 - val_acc: 0.5085\n"
     ]
    },
    {
     "data": {
      "text/plain": [
       "<keras.callbacks.History at 0x17cf76d2b70>"
      ]
     },
     "execution_count": 10,
     "metadata": {},
     "output_type": "execute_result"
    }
   ],
   "source": [
    "model.fit(x_train, y_train, \n",
    "          epochs=EPOCHS, \n",
    "          batch_size=BATCH_SIZE, \n",
    "          validation_data=(x_test, y_test), \n",
    "          shuffle=True)"
   ]
  },
  {
   "cell_type": "code",
   "execution_count": 11,
   "metadata": {},
   "outputs": [
    {
     "data": {
      "image/png": "[encoded data removed]",
      "text/plain": [
       "<Figure size 432x288 with 1 Axes>"
      ]
     },
     "metadata": {
      "needs_background": "light"
     },
     "output_type": "display_data"
    },
    {
     "data": {
      "image/png": "[encoded data removed]",
      "text/plain": [
       "<Figure size 432x288 with 1 Axes>"
      ]
     },
     "metadata": {
      "needs_background": "light"
     },
     "output_type": "display_data"
    }
   ],
   "source": [
    "# 訓練模型並檢視驗證集的結果\n",
    "import matplotlib.pyplot as plt\n",
    "\n",
    "train_loss = model.history.history[\"loss\"]\n",
    "valid_loss = model.history.history[\"val_loss\"]\n",
    "\n",
    "train_acc = model.history.history[\"acc\"]\n",
    "valid_acc = model.history.history[\"val_acc\"]\n",
    "\n",
    "plt.plot(range(len(train_loss)), train_loss, label=\"train loss\")\n",
    "plt.plot(range(len(valid_loss)), valid_loss, label=\"valid loss\")\n",
    "plt.legend()\n",
    "plt.title(\"Loss\")\n",
    "plt.show()\n",
    "\n",
    "plt.plot(range(len(train_acc)), train_acc, label=\"train accuracy\")\n",
    "plt.plot(range(len(valid_acc)), valid_acc, label=\"valid accuracy\")\n",
    "plt.legend()\n",
    "plt.title(\"Accuracy\")\n",
    "plt.show()"
   ]
  },
  {
   "cell_type": "markdown",
   "metadata": {},
   "source": [
    "## Work\n",
    "1. 請嘗試將 preproc_x 替換成以每筆資料的 min/max 進行標準化至 -1 ~ 1 間，再進行訓練\n",
    "2. 請嘗試將 mlp 疊更深 (e.g 5~10 層)，進行訓練後觀察 learning curve 的走勢\n",
    "3. (optional) 請改用 GPU 進行訓練 (如果你有 GPU 的話)，比較使用 CPU 與 GPU 的訓練速度"
   ]
  }
 ],
 "metadata": {
  "kernelspec": {
   "display_name": "Python 3",
   "language": "python",
   "name": "python3"
  },
  "language_info": {
   "codemirror_mode": {
    "name": "ipython",
    "version": 3
   },
   "file_extension": ".py",
   "mimetype": "text/x-python",
   "name": "python",
   "nbconvert_exporter": "python",
   "pygments_lexer": "ipython3",
   "version": "3.6.10"
  }
 },
 "nbformat": 4,
 "nbformat_minor": 2
}
