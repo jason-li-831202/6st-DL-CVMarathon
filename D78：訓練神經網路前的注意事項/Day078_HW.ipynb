{
 "cells": [
  {
   "cell_type": "markdown",
   "metadata": {},
   "source": [
    "## Work\n",
    "1. 請嘗試將 preproc_x 替換成以每筆資料的 min/max 進行標準化至 -1 ~ 1 間，再進行訓練\n",
    "2. 請嘗試將 mlp 疊更深 (e.g 5~10 層)，進行訓練後觀察 learning curve 的走勢\n",
    "3. (optional) 請改用 GPU 進行訓練 (如果你有 GPU 的話)，比較使用 CPU 與 GPU 的訓練速度"
   ]
  },
  {
   "cell_type": "code",
   "execution_count": 1,
   "metadata": {},
   "outputs": [
    {
     "data": {
      "text/plain": [
       "'\\nYour code here (optional)\\n確認硬體資源\\n'"
      ]
     },
     "execution_count": 1,
     "metadata": {},
     "output_type": "execute_result"
    }
   ],
   "source": [
    "## \n",
    "\"\"\"\n",
    "Your code here (optional)\n",
    "確認硬體資源\n",
    "\"\"\"\n"
   ]
  },
  {
   "cell_type": "code",
   "execution_count": 2,
   "metadata": {},
   "outputs": [
    {
     "name": "stderr",
     "output_type": "stream",
     "text": [
      "Using TensorFlow backend.\n",
      "C:\\Users\\zuoo5\\Anaconda3\\envs\\tensorflow-gpu\\lib\\site-packages\\tensorflow\\python\\framework\\dtypes.py:523: FutureWarning: Passing (type, 1) or '1type' as a synonym of type is deprecated; in a future version of numpy, it will be understood as (type, (1,)) / '(1,)type'.\n",
      "  _np_qint8 = np.dtype([(\"qint8\", np.int8, 1)])\n",
      "C:\\Users\\zuoo5\\Anaconda3\\envs\\tensorflow-gpu\\lib\\site-packages\\tensorflow\\python\\framework\\dtypes.py:524: FutureWarning: Passing (type, 1) or '1type' as a synonym of type is deprecated; in a future version of numpy, it will be understood as (type, (1,)) / '(1,)type'.\n",
      "  _np_quint8 = np.dtype([(\"quint8\", np.uint8, 1)])\n",
      "C:\\Users\\zuoo5\\Anaconda3\\envs\\tensorflow-gpu\\lib\\site-packages\\tensorflow\\python\\framework\\dtypes.py:525: FutureWarning: Passing (type, 1) or '1type' as a synonym of type is deprecated; in a future version of numpy, it will be understood as (type, (1,)) / '(1,)type'.\n",
      "  _np_qint16 = np.dtype([(\"qint16\", np.int16, 1)])\n",
      "C:\\Users\\zuoo5\\Anaconda3\\envs\\tensorflow-gpu\\lib\\site-packages\\tensorflow\\python\\framework\\dtypes.py:526: FutureWarning: Passing (type, 1) or '1type' as a synonym of type is deprecated; in a future version of numpy, it will be understood as (type, (1,)) / '(1,)type'.\n",
      "  _np_quint16 = np.dtype([(\"quint16\", np.uint16, 1)])\n",
      "C:\\Users\\zuoo5\\Anaconda3\\envs\\tensorflow-gpu\\lib\\site-packages\\tensorflow\\python\\framework\\dtypes.py:527: FutureWarning: Passing (type, 1) or '1type' as a synonym of type is deprecated; in a future version of numpy, it will be understood as (type, (1,)) / '(1,)type'.\n",
      "  _np_qint32 = np.dtype([(\"qint32\", np.int32, 1)])\n",
      "C:\\Users\\zuoo5\\Anaconda3\\envs\\tensorflow-gpu\\lib\\site-packages\\tensorflow\\python\\framework\\dtypes.py:532: FutureWarning: Passing (type, 1) or '1type' as a synonym of type is deprecated; in a future version of numpy, it will be understood as (type, (1,)) / '(1,)type'.\n",
      "  np_resource = np.dtype([(\"resource\", np.ubyte, 1)])\n"
     ]
    }
   ],
   "source": [
    "import os\n",
    "import keras\n",
    "from sklearn import preprocessing\n",
    "\n",
    "# 請嘗試設定 GPU：os.environ\n",
    "os.environ[\"CUDA_VISIBLE_DEVICES\"] = \"1\""
   ]
  },
  {
   "cell_type": "code",
   "execution_count": 3,
   "metadata": {},
   "outputs": [],
   "source": [
    "train, test = keras.datasets.cifar10.load_data()"
   ]
  },
  {
   "cell_type": "code",
   "execution_count": 4,
   "metadata": {},
   "outputs": [],
   "source": [
    "## 資料前處理\n",
    "\"\"\"\n",
    "Your code here\n",
    "\"\"\"\n",
    "def preproc_x(x, flatten=True):\n",
    "    if flatten:\n",
    "        x = x.reshape((len(x), -1))\n",
    "    zscore = preprocessing.StandardScaler()\n",
    "    # 標準化處理\n",
    "    x = zscore.fit_transform(x)\n",
    "    return x\n",
    "\n",
    "def preproc_y(y, num_classes=10):\n",
    "    if y.shape[-1] == 1:\n",
    "        y = keras.utils.to_categorical(y, num_classes)\n",
    "    return y    "
   ]
  },
  {
   "cell_type": "code",
   "execution_count": 5,
   "metadata": {},
   "outputs": [],
   "source": [
    "x_train, y_train = train\n",
    "x_test, y_test = test\n",
    "\n",
    "# Preproc the inputs\n",
    "x_train = preproc_x(x_train)\n",
    "x_test = preproc_x(x_test)\n",
    "\n",
    "# Preprc the outputs\n",
    "y_train = preproc_y(y_train)\n",
    "y_test = preproc_y(y_test)"
   ]
  },
  {
   "cell_type": "code",
   "execution_count": 14,
   "metadata": {},
   "outputs": [],
   "source": [
    "\"\"\"Code Here\n",
    "建立你的神經網路\n",
    "\"\"\"\n",
    "def build_mlp(input_shape, output_units=10, num_neurons=[256, 128, 128, 64, 64]):\n",
    "    input_layer = keras.layers.Input(input_shape)\n",
    "    \n",
    "    for i, n_units in enumerate(num_neurons):\n",
    "        if i == 0:\n",
    "            x = keras.layers.Dense(units=n_units, activation=\"relu\", name=\"hidden_layer\"+str(i+1))(input_layer)\n",
    "        else:\n",
    "            x = keras.layers.Dense(units=n_units, activation=\"relu\", name=\"hidden_layer\"+str(i+1))(x)\n",
    "            x = keras.layers.Dropout(0.2, name=\"hidden_dropout\"+str(i+1))(x)\n",
    "    \n",
    "    out = keras.layers.Dense(units=output_units, activation=\"softmax\", name=\"output\")(x)\n",
    "    \n",
    "    model = keras.models.Model(inputs=[input_layer], outputs=[out])\n",
    "    return model"
   ]
  },
  {
   "cell_type": "code",
   "execution_count": 15,
   "metadata": {},
   "outputs": [
    {
     "name": "stdout",
     "output_type": "stream",
     "text": [
      "_________________________________________________________________\n",
      "Layer (type)                 Output Shape              Param #   \n",
      "=================================================================\n",
      "input_2 (InputLayer)         (None, 3072)              0         \n",
      "_________________________________________________________________\n",
      "hidden_layer1 (Dense)        (None, 256)               786688    \n",
      "_________________________________________________________________\n",
      "hidden_layer2 (Dense)        (None, 128)               32896     \n",
      "_________________________________________________________________\n",
      "hidden_dropout2 (Dropout)    (None, 128)               0         \n",
      "_________________________________________________________________\n",
      "hidden_layer3 (Dense)        (None, 128)               16512     \n",
      "_________________________________________________________________\n",
      "hidden_dropout3 (Dropout)    (None, 128)               0         \n",
      "_________________________________________________________________\n",
      "hidden_layer4 (Dense)        (None, 64)                8256      \n",
      "_________________________________________________________________\n",
      "hidden_dropout4 (Dropout)    (None, 64)                0         \n",
      "_________________________________________________________________\n",
      "hidden_layer5 (Dense)        (None, 64)                4160      \n",
      "_________________________________________________________________\n",
      "hidden_dropout5 (Dropout)    (None, 64)                0         \n",
      "_________________________________________________________________\n",
      "output (Dense)               (None, 10)                650       \n",
      "=================================================================\n",
      "Total params: 849,162\n",
      "Trainable params: 849,162\n",
      "Non-trainable params: 0\n",
      "_________________________________________________________________\n"
     ]
    }
   ],
   "source": [
    "model = build_mlp(input_shape=x_train.shape[1:])\n",
    "model.summary()"
   ]
  },
  {
   "cell_type": "code",
   "execution_count": 19,
   "metadata": {},
   "outputs": [],
   "source": [
    "## 超參數設定\n",
    "LEARNING_RATE = 0.001\n",
    "EPOCHS = 100\n",
    "BATCH_SIZE = 256"
   ]
  },
  {
   "cell_type": "code",
   "execution_count": 20,
   "metadata": {},
   "outputs": [],
   "source": [
    "optimizer = keras.optimizers.Adam(lr=LEARNING_RATE, decay=1e-6)\n",
    "model.compile(loss=\"categorical_crossentropy\", metrics=[\"accuracy\"], optimizer=optimizer)"
   ]
  },
  {
   "cell_type": "code",
   "execution_count": 21,
   "metadata": {
    "scrolled": true
   },
   "outputs": [
    {
     "name": "stdout",
     "output_type": "stream",
     "text": [
      "WARNING:tensorflow:Variable *= will be deprecated. Use `var.assign(var * other)` if you want assignment to the variable value or `x = x * y` if you want a new python Tensor object.\n",
      "Train on 50000 samples, validate on 10000 samples\n",
      "Epoch 1/100\n",
      "50000/50000 [==============================] - 7s 131us/step - loss: 0.6744 - acc: 0.7651 - val_loss: 1.7333 - val_acc: 0.5391\n",
      "Epoch 2/100\n",
      "50000/50000 [==============================] - 6s 113us/step - loss: 0.6612 - acc: 0.7717 - val_loss: 1.7006 - val_acc: 0.5325\n",
      "Epoch 3/100\n",
      "50000/50000 [==============================] - 6s 115us/step - loss: 0.6612 - acc: 0.7703 - val_loss: 1.7065 - val_acc: 0.5348\n",
      "Epoch 4/100\n",
      "50000/50000 [==============================] - 6s 117us/step - loss: 0.6447 - acc: 0.7752 - val_loss: 1.7514 - val_acc: 0.5401\n",
      "Epoch 5/100\n",
      "50000/50000 [==============================] - 6s 115us/step - loss: 0.6429 - acc: 0.7794 - val_loss: 1.7457 - val_acc: 0.5336\n",
      "Epoch 6/100\n",
      "50000/50000 [==============================] - 6s 114us/step - loss: 0.6358 - acc: 0.7800 - val_loss: 1.7372 - val_acc: 0.5404\n",
      "Epoch 7/100\n",
      "50000/50000 [==============================] - 6s 116us/step - loss: 0.6267 - acc: 0.7819 - val_loss: 1.8014 - val_acc: 0.5308\n",
      "Epoch 8/100\n",
      "50000/50000 [==============================] - 6s 116us/step - loss: 0.6273 - acc: 0.7826 - val_loss: 1.7445 - val_acc: 0.5285\n",
      "Epoch 9/100\n",
      "50000/50000 [==============================] - 6s 116us/step - loss: 0.6144 - acc: 0.7869 - val_loss: 1.7511 - val_acc: 0.5319\n",
      "Epoch 10/100\n",
      "50000/50000 [==============================] - 6s 117us/step - loss: 0.6124 - acc: 0.7853 - val_loss: 1.7910 - val_acc: 0.5375\n",
      "Epoch 11/100\n",
      "50000/50000 [==============================] - 6s 117us/step - loss: 0.6084 - acc: 0.7910 - val_loss: 1.8425 - val_acc: 0.5301\n",
      "Epoch 12/100\n",
      "50000/50000 [==============================] - 6s 117us/step - loss: 0.6025 - acc: 0.7923 - val_loss: 1.7644 - val_acc: 0.5355\n",
      "Epoch 13/100\n",
      "50000/50000 [==============================] - 6s 120us/step - loss: 0.5918 - acc: 0.7951 - val_loss: 1.8172 - val_acc: 0.5351\n",
      "Epoch 14/100\n",
      "50000/50000 [==============================] - 6s 117us/step - loss: 0.5939 - acc: 0.7929 - val_loss: 1.7952 - val_acc: 0.5394\n",
      "Epoch 15/100\n",
      "50000/50000 [==============================] - 6s 117us/step - loss: 0.5813 - acc: 0.8004 - val_loss: 1.8089 - val_acc: 0.5287\n",
      "Epoch 16/100\n",
      "50000/50000 [==============================] - 6s 116us/step - loss: 0.5821 - acc: 0.7980 - val_loss: 1.7883 - val_acc: 0.5338\n",
      "Epoch 17/100\n",
      "50000/50000 [==============================] - 6s 117us/step - loss: 0.5702 - acc: 0.8044 - val_loss: 1.8403 - val_acc: 0.5351\n",
      "Epoch 18/100\n",
      "50000/50000 [==============================] - 6s 116us/step - loss: 0.5597 - acc: 0.8047 - val_loss: 1.8533 - val_acc: 0.5329\n",
      "Epoch 19/100\n",
      "50000/50000 [==============================] - 6s 116us/step - loss: 0.5547 - acc: 0.8086 - val_loss: 1.8785 - val_acc: 0.5323\n",
      "Epoch 20/100\n",
      "50000/50000 [==============================] - 6s 117us/step - loss: 0.5594 - acc: 0.8060 - val_loss: 1.8154 - val_acc: 0.5315\n",
      "Epoch 21/100\n",
      "50000/50000 [==============================] - 6s 116us/step - loss: 0.5484 - acc: 0.8099 - val_loss: 1.8992 - val_acc: 0.5285\n",
      "Epoch 22/100\n",
      "50000/50000 [==============================] - 6s 115us/step - loss: 0.5490 - acc: 0.8089 - val_loss: 1.9394 - val_acc: 0.5306\n",
      "Epoch 23/100\n",
      "50000/50000 [==============================] - 6s 117us/step - loss: 0.5469 - acc: 0.8122 - val_loss: 1.8803 - val_acc: 0.5298\n",
      "Epoch 24/100\n",
      "50000/50000 [==============================] - 6s 117us/step - loss: 0.5394 - acc: 0.8143 - val_loss: 1.9014 - val_acc: 0.5307\n",
      "Epoch 25/100\n",
      "50000/50000 [==============================] - 6s 116us/step - loss: 0.5361 - acc: 0.8163 - val_loss: 1.9415 - val_acc: 0.5291\n",
      "Epoch 26/100\n",
      "50000/50000 [==============================] - 6s 116us/step - loss: 0.5276 - acc: 0.8163 - val_loss: 1.9847 - val_acc: 0.5328\n",
      "Epoch 27/100\n",
      "50000/50000 [==============================] - 6s 121us/step - loss: 0.5271 - acc: 0.8193 - val_loss: 1.8997 - val_acc: 0.5249\n",
      "Epoch 28/100\n",
      "50000/50000 [==============================] - 6s 115us/step - loss: 0.5099 - acc: 0.8228 - val_loss: 1.9246 - val_acc: 0.5295\n",
      "Epoch 29/100\n",
      "50000/50000 [==============================] - 6s 116us/step - loss: 0.5270 - acc: 0.8191 - val_loss: 1.8952 - val_acc: 0.5268\n",
      "Epoch 30/100\n",
      "50000/50000 [==============================] - 6s 117us/step - loss: 0.5128 - acc: 0.8242 - val_loss: 1.9656 - val_acc: 0.5269\n",
      "Epoch 31/100\n",
      "50000/50000 [==============================] - 6s 117us/step - loss: 0.5086 - acc: 0.8262 - val_loss: 1.9247 - val_acc: 0.5285\n",
      "Epoch 32/100\n",
      "50000/50000 [==============================] - 6s 115us/step - loss: 0.5174 - acc: 0.8222 - val_loss: 1.9115 - val_acc: 0.5313\n",
      "Epoch 33/100\n",
      "50000/50000 [==============================] - 6s 118us/step - loss: 0.4991 - acc: 0.8286 - val_loss: 2.0433 - val_acc: 0.5228\n",
      "Epoch 34/100\n",
      "50000/50000 [==============================] - 6s 118us/step - loss: 0.4998 - acc: 0.8288 - val_loss: 2.0634 - val_acc: 0.5271\n",
      "Epoch 35/100\n",
      "50000/50000 [==============================] - 6s 118us/step - loss: 0.4884 - acc: 0.8323 - val_loss: 1.9877 - val_acc: 0.5238\n",
      "Epoch 36/100\n",
      "50000/50000 [==============================] - 6s 117us/step - loss: 0.4990 - acc: 0.8303 - val_loss: 1.9410 - val_acc: 0.5255\n",
      "Epoch 37/100\n",
      "50000/50000 [==============================] - 6s 118us/step - loss: 0.4979 - acc: 0.8302 - val_loss: 2.0305 - val_acc: 0.5309\n",
      "Epoch 38/100\n",
      "50000/50000 [==============================] - 6s 117us/step - loss: 0.4855 - acc: 0.8347 - val_loss: 2.0874 - val_acc: 0.5275\n",
      "Epoch 39/100\n",
      "50000/50000 [==============================] - 6s 119us/step - loss: 0.4891 - acc: 0.8327 - val_loss: 2.0458 - val_acc: 0.5321\n",
      "Epoch 40/100\n",
      "50000/50000 [==============================] - 6s 116us/step - loss: 0.4674 - acc: 0.8398 - val_loss: 2.1102 - val_acc: 0.5312\n",
      "Epoch 41/100\n",
      "50000/50000 [==============================] - 6s 119us/step - loss: 0.4786 - acc: 0.8380 - val_loss: 2.0882 - val_acc: 0.5285\n",
      "Epoch 42/100\n",
      "50000/50000 [==============================] - 6s 115us/step - loss: 0.4780 - acc: 0.8365 - val_loss: 2.0635 - val_acc: 0.5302\n",
      "Epoch 43/100\n",
      "50000/50000 [==============================] - 6s 117us/step - loss: 0.4720 - acc: 0.8407 - val_loss: 2.0693 - val_acc: 0.5208\n",
      "Epoch 44/100\n",
      "50000/50000 [==============================] - 6s 129us/step - loss: 0.4711 - acc: 0.8406 - val_loss: 2.0810 - val_acc: 0.5299\n",
      "Epoch 45/100\n",
      "50000/50000 [==============================] - 6s 117us/step - loss: 0.4541 - acc: 0.8446 - val_loss: 2.0874 - val_acc: 0.5208\n",
      "Epoch 46/100\n",
      "50000/50000 [==============================] - 6s 120us/step - loss: 0.4569 - acc: 0.8456 - val_loss: 2.1114 - val_acc: 0.5261\n",
      "Epoch 47/100\n",
      "50000/50000 [==============================] - 6s 117us/step - loss: 0.4649 - acc: 0.8421 - val_loss: 2.0749 - val_acc: 0.5327\n",
      "Epoch 48/100\n",
      "50000/50000 [==============================] - 6s 123us/step - loss: 0.4537 - acc: 0.8456 - val_loss: 2.1124 - val_acc: 0.5273\n",
      "Epoch 49/100\n",
      "50000/50000 [==============================] - 7s 135us/step - loss: 0.4461 - acc: 0.8477 - val_loss: 2.0804 - val_acc: 0.5276\n",
      "Epoch 50/100\n",
      "50000/50000 [==============================] - 6s 117us/step - loss: 0.4587 - acc: 0.8429 - val_loss: 2.0718 - val_acc: 0.5295\n",
      "Epoch 51/100\n",
      "50000/50000 [==============================] - 6s 113us/step - loss: 0.4424 - acc: 0.8487 - val_loss: 2.1369 - val_acc: 0.5270\n",
      "Epoch 52/100\n",
      "50000/50000 [==============================] - 6s 120us/step - loss: 0.4395 - acc: 0.8518 - val_loss: 2.2142 - val_acc: 0.5244\n",
      "Epoch 53/100\n",
      "50000/50000 [==============================] - 6s 119us/step - loss: 0.4382 - acc: 0.8520 - val_loss: 2.0466 - val_acc: 0.5245\n",
      "Epoch 54/100\n",
      "50000/50000 [==============================] - 6s 119us/step - loss: 0.4322 - acc: 0.8534 - val_loss: 2.1663 - val_acc: 0.5207\n",
      "Epoch 55/100\n",
      "50000/50000 [==============================] - 6s 117us/step - loss: 0.4372 - acc: 0.8525 - val_loss: 2.1898 - val_acc: 0.5263\n",
      "Epoch 56/100\n",
      "50000/50000 [==============================] - 6s 119us/step - loss: 0.4348 - acc: 0.8539 - val_loss: 2.1411 - val_acc: 0.5257\n",
      "Epoch 57/100\n",
      "50000/50000 [==============================] - 6s 118us/step - loss: 0.4414 - acc: 0.8509 - val_loss: 2.1715 - val_acc: 0.5257\n"
     ]
    },
    {
     "name": "stdout",
     "output_type": "stream",
     "text": [
      "Epoch 58/100\n",
      "50000/50000 [==============================] - 6s 116us/step - loss: 0.4211 - acc: 0.8590 - val_loss: 2.1290 - val_acc: 0.5225\n",
      "Epoch 59/100\n",
      "50000/50000 [==============================] - 6s 116us/step - loss: 0.4267 - acc: 0.8576 - val_loss: 2.1770 - val_acc: 0.5278\n",
      "Epoch 60/100\n",
      "50000/50000 [==============================] - 6s 115us/step - loss: 0.4168 - acc: 0.8586 - val_loss: 2.1850 - val_acc: 0.5230\n",
      "Epoch 61/100\n",
      "50000/50000 [==============================] - 6s 117us/step - loss: 0.4214 - acc: 0.8578 - val_loss: 2.1861 - val_acc: 0.5253\n",
      "Epoch 62/100\n",
      "50000/50000 [==============================] - 6s 115us/step - loss: 0.4132 - acc: 0.8609 - val_loss: 2.1842 - val_acc: 0.5315\n",
      "Epoch 63/100\n",
      "50000/50000 [==============================] - 6s 115us/step - loss: 0.4223 - acc: 0.8572 - val_loss: 2.1481 - val_acc: 0.5254\n",
      "Epoch 64/100\n",
      "50000/50000 [==============================] - 6s 115us/step - loss: 0.4031 - acc: 0.8638 - val_loss: 2.1756 - val_acc: 0.5239\n",
      "Epoch 65/100\n",
      "50000/50000 [==============================] - 6s 116us/step - loss: 0.4076 - acc: 0.8624 - val_loss: 2.2209 - val_acc: 0.5305\n",
      "Epoch 66/100\n",
      "50000/50000 [==============================] - 6s 115us/step - loss: 0.4096 - acc: 0.8648 - val_loss: 2.1848 - val_acc: 0.5252\n",
      "Epoch 67/100\n",
      "50000/50000 [==============================] - 7s 143us/step - loss: 0.4026 - acc: 0.8650 - val_loss: 2.1957 - val_acc: 0.5293\n",
      "Epoch 68/100\n",
      "50000/50000 [==============================] - 6s 125us/step - loss: 0.4002 - acc: 0.8644 - val_loss: 2.1504 - val_acc: 0.5269\n",
      "Epoch 69/100\n",
      "50000/50000 [==============================] - 6s 121us/step - loss: 0.4089 - acc: 0.8620 - val_loss: 2.2058 - val_acc: 0.5338\n",
      "Epoch 70/100\n",
      "50000/50000 [==============================] - 7s 139us/step - loss: 0.3983 - acc: 0.8679 - val_loss: 2.1634 - val_acc: 0.5335\n",
      "Epoch 71/100\n",
      "50000/50000 [==============================] - 9s 170us/step - loss: 0.3969 - acc: 0.8688 - val_loss: 2.1468 - val_acc: 0.5309\n",
      "Epoch 72/100\n",
      "50000/50000 [==============================] - 8s 165us/step - loss: 0.3948 - acc: 0.8678 - val_loss: 2.2537 - val_acc: 0.5309\n",
      "Epoch 73/100\n",
      "50000/50000 [==============================] - 8s 153us/step - loss: 0.3959 - acc: 0.8680 - val_loss: 2.1356 - val_acc: 0.5292\n",
      "Epoch 74/100\n",
      "50000/50000 [==============================] - 8s 163us/step - loss: 0.3787 - acc: 0.8729 - val_loss: 2.2362 - val_acc: 0.5292\n",
      "Epoch 75/100\n",
      "50000/50000 [==============================] - 7s 136us/step - loss: 0.3759 - acc: 0.8750 - val_loss: 2.3359 - val_acc: 0.5295\n",
      "Epoch 76/100\n",
      "50000/50000 [==============================] - 8s 158us/step - loss: 0.3851 - acc: 0.8715 - val_loss: 2.2359 - val_acc: 0.5275\n",
      "Epoch 77/100\n",
      "50000/50000 [==============================] - 9s 179us/step - loss: 0.3897 - acc: 0.8712 - val_loss: 2.3186 - val_acc: 0.5296\n",
      "Epoch 78/100\n",
      "50000/50000 [==============================] - 8s 159us/step - loss: 0.3760 - acc: 0.8751 - val_loss: 2.2707 - val_acc: 0.5294\n",
      "Epoch 79/100\n",
      "50000/50000 [==============================] - 7s 137us/step - loss: 0.3820 - acc: 0.8728 - val_loss: 2.1641 - val_acc: 0.5244\n",
      "Epoch 80/100\n",
      "50000/50000 [==============================] - 7s 131us/step - loss: 0.3726 - acc: 0.8759 - val_loss: 2.3389 - val_acc: 0.5276\n",
      "Epoch 81/100\n",
      "50000/50000 [==============================] - 8s 158us/step - loss: 0.3774 - acc: 0.8760 - val_loss: 2.3741 - val_acc: 0.5256\n",
      "Epoch 82/100\n",
      "50000/50000 [==============================] - 7s 147us/step - loss: 0.3755 - acc: 0.8747 - val_loss: 2.3394 - val_acc: 0.5267\n",
      "Epoch 83/100\n",
      "50000/50000 [==============================] - 6s 129us/step - loss: 0.3774 - acc: 0.8769 - val_loss: 2.3103 - val_acc: 0.5285\n",
      "Epoch 84/100\n",
      "50000/50000 [==============================] - 7s 139us/step - loss: 0.3730 - acc: 0.8777 - val_loss: 2.3078 - val_acc: 0.5243\n",
      "Epoch 85/100\n",
      "50000/50000 [==============================] - 7s 141us/step - loss: 0.3637 - acc: 0.8791 - val_loss: 2.2699 - val_acc: 0.5293\n",
      "Epoch 86/100\n",
      "50000/50000 [==============================] - 7s 131us/step - loss: 0.3654 - acc: 0.8789 - val_loss: 2.2750 - val_acc: 0.5243\n",
      "Epoch 87/100\n",
      "50000/50000 [==============================] - 8s 159us/step - loss: 0.3669 - acc: 0.8789 - val_loss: 2.3138 - val_acc: 0.5308\n",
      "Epoch 88/100\n",
      "50000/50000 [==============================] - 7s 148us/step - loss: 0.3688 - acc: 0.8788 - val_loss: 2.3484 - val_acc: 0.5211\n",
      "Epoch 89/100\n",
      "50000/50000 [==============================] - 7s 136us/step - loss: 0.3617 - acc: 0.8782 - val_loss: 2.3299 - val_acc: 0.5225\n",
      "Epoch 90/100\n",
      "50000/50000 [==============================] - 8s 160us/step - loss: 0.3611 - acc: 0.8805 - val_loss: 2.3148 - val_acc: 0.5294\n",
      "Epoch 91/100\n",
      "50000/50000 [==============================] - 7s 133us/step - loss: 0.3567 - acc: 0.8820 - val_loss: 2.3732 - val_acc: 0.5169\n",
      "Epoch 92/100\n",
      "50000/50000 [==============================] - 8s 162us/step - loss: 0.3520 - acc: 0.8824 - val_loss: 2.3676 - val_acc: 0.5193\n",
      "Epoch 93/100\n",
      "50000/50000 [==============================] - 7s 145us/step - loss: 0.3537 - acc: 0.8825 - val_loss: 2.3537 - val_acc: 0.5271\n",
      "Epoch 94/100\n",
      "50000/50000 [==============================] - 6s 122us/step - loss: 0.3440 - acc: 0.8860 - val_loss: 2.4562 - val_acc: 0.5257\n",
      "Epoch 95/100\n",
      "50000/50000 [==============================] - 7s 143us/step - loss: 0.3475 - acc: 0.8847 - val_loss: 2.3621 - val_acc: 0.5311\n",
      "Epoch 96/100\n",
      "50000/50000 [==============================] - 8s 152us/step - loss: 0.3471 - acc: 0.8841 - val_loss: 2.4303 - val_acc: 0.5330\n",
      "Epoch 97/100\n",
      "50000/50000 [==============================] - 7s 138us/step - loss: 0.3469 - acc: 0.8852 - val_loss: 2.4095 - val_acc: 0.5253\n",
      "Epoch 98/100\n",
      "50000/50000 [==============================] - 7s 140us/step - loss: 0.3446 - acc: 0.8861 - val_loss: 2.3611 - val_acc: 0.5281\n",
      "Epoch 99/100\n",
      "50000/50000 [==============================] - 7s 134us/step - loss: 0.3402 - acc: 0.8866 - val_loss: 2.3886 - val_acc: 0.5301\n",
      "Epoch 100/100\n",
      "50000/50000 [==============================] - 8s 154us/step - loss: 0.3500 - acc: 0.8852 - val_loss: 2.3349 - val_acc: 0.5255\n"
     ]
    },
    {
     "data": {
      "text/plain": [
       "<keras.callbacks.History at 0x2c02bc92668>"
      ]
     },
     "execution_count": 21,
     "metadata": {},
     "output_type": "execute_result"
    }
   ],
   "source": [
    "model.fit(x_train, y_train, \n",
    "          epochs=EPOCHS, \n",
    "          batch_size=BATCH_SIZE, \n",
    "          validation_data=(x_test, y_test), \n",
    "          shuffle=True)"
   ]
  },
  {
   "cell_type": "code",
   "execution_count": 22,
   "metadata": {},
   "outputs": [
    {
     "data": {
      "image/png": "[encoded data removed]",
      "text/plain": [
       "<Figure size 432x288 with 1 Axes>"
      ]
     },
     "metadata": {
      "needs_background": "light"
     },
     "output_type": "display_data"
    },
    {
     "data": {
      "image/png": "[encoded data removed]",
      "text/plain": [
       "<Figure size 432x288 with 1 Axes>"
      ]
     },
     "metadata": {
      "needs_background": "light"
     },
     "output_type": "display_data"
    }
   ],
   "source": [
    "import matplotlib.pyplot as plt\n",
    "\n",
    "\n",
    "train_loss = model.history.history[\"loss\"]\n",
    "valid_loss = model.history.history[\"val_loss\"]\n",
    "\n",
    "train_acc = model.history.history[\"acc\"]\n",
    "valid_acc = model.history.history[\"val_acc\"]\n",
    "\n",
    "plt.plot(range(len(train_loss)), train_loss, label=\"train loss\")\n",
    "plt.plot(range(len(valid_loss)), valid_loss, label=\"valid loss\")\n",
    "plt.legend()\n",
    "plt.title(\"Loss\")\n",
    "plt.show()\n",
    "\n",
    "plt.plot(range(len(train_acc)), train_acc, label=\"train accuracy\")\n",
    "plt.plot(range(len(valid_acc)), valid_acc, label=\"valid accuracy\")\n",
    "plt.legend()\n",
    "plt.title(\"Accuracy\")\n",
    "plt.show()"
   ]
  },
  {
   "cell_type": "code",
   "execution_count": null,
   "metadata": {},
   "outputs": [],
   "source": []
  }
 ],
 "metadata": {
  "kernelspec": {
   "display_name": "Python 3",
   "language": "python",
   "name": "python3"
  },
  "language_info": {
   "codemirror_mode": {
    "name": "ipython",
    "version": 3
   },
   "file_extension": ".py",
   "mimetype": "text/x-python",
   "name": "python",
   "nbconvert_exporter": "python",
   "pygments_lexer": "ipython3",
   "version": "3.6.10"
  }
 },
 "nbformat": 4,
 "nbformat_minor": 2
}
