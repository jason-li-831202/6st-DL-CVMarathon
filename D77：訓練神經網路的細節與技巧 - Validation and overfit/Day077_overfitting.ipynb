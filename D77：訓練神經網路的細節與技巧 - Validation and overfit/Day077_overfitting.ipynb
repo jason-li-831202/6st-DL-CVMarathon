{
 "cells": [
  {
   "cell_type": "markdown",
   "metadata": {},
   "source": [
    "## 範例重點\n",
    "* 學會從 Keras 內建函式取得資料\n",
    "* 能夠建立簡易的深度學習模型\n",
    "* 觀察並了解 Overfit 現象"
   ]
  },
  {
   "cell_type": "code",
   "execution_count": 1,
   "metadata": {},
   "outputs": [
    {
     "name": "stderr",
     "output_type": "stream",
     "text": [
      "Using TensorFlow backend.\n",
      "C:\\Users\\zuoo5\\Anaconda3\\envs\\tensorflow-gpu\\lib\\site-packages\\tensorflow\\python\\framework\\dtypes.py:523: FutureWarning: Passing (type, 1) or '1type' as a synonym of type is deprecated; in a future version of numpy, it will be understood as (type, (1,)) / '(1,)type'.\n",
      "  _np_qint8 = np.dtype([(\"qint8\", np.int8, 1)])\n",
      "C:\\Users\\zuoo5\\Anaconda3\\envs\\tensorflow-gpu\\lib\\site-packages\\tensorflow\\python\\framework\\dtypes.py:524: FutureWarning: Passing (type, 1) or '1type' as a synonym of type is deprecated; in a future version of numpy, it will be understood as (type, (1,)) / '(1,)type'.\n",
      "  _np_quint8 = np.dtype([(\"quint8\", np.uint8, 1)])\n",
      "C:\\Users\\zuoo5\\Anaconda3\\envs\\tensorflow-gpu\\lib\\site-packages\\tensorflow\\python\\framework\\dtypes.py:525: FutureWarning: Passing (type, 1) or '1type' as a synonym of type is deprecated; in a future version of numpy, it will be understood as (type, (1,)) / '(1,)type'.\n",
      "  _np_qint16 = np.dtype([(\"qint16\", np.int16, 1)])\n",
      "C:\\Users\\zuoo5\\Anaconda3\\envs\\tensorflow-gpu\\lib\\site-packages\\tensorflow\\python\\framework\\dtypes.py:526: FutureWarning: Passing (type, 1) or '1type' as a synonym of type is deprecated; in a future version of numpy, it will be understood as (type, (1,)) / '(1,)type'.\n",
      "  _np_quint16 = np.dtype([(\"quint16\", np.uint16, 1)])\n",
      "C:\\Users\\zuoo5\\Anaconda3\\envs\\tensorflow-gpu\\lib\\site-packages\\tensorflow\\python\\framework\\dtypes.py:527: FutureWarning: Passing (type, 1) or '1type' as a synonym of type is deprecated; in a future version of numpy, it will be understood as (type, (1,)) / '(1,)type'.\n",
      "  _np_qint32 = np.dtype([(\"qint32\", np.int32, 1)])\n",
      "C:\\Users\\zuoo5\\Anaconda3\\envs\\tensorflow-gpu\\lib\\site-packages\\tensorflow\\python\\framework\\dtypes.py:532: FutureWarning: Passing (type, 1) or '1type' as a synonym of type is deprecated; in a future version of numpy, it will be understood as (type, (1,)) / '(1,)type'.\n",
      "  np_resource = np.dtype([(\"resource\", np.ubyte, 1)])\n"
     ]
    }
   ],
   "source": [
    "import os\n",
    "import keras\n",
    "\n",
    "# 本範例不需使用 GPU, 將 GPU 設定為 \"無\"\n",
    "os.environ[\"CUDA_VISIBLE_DEVICES\"] = \"\""
   ]
  },
  {
   "cell_type": "code",
   "execution_count": 2,
   "metadata": {},
   "outputs": [],
   "source": [
    "# 從 Keras 的內建功能中，取得 train 與 test 資料集\n",
    "train, test = keras.datasets.cifar10.load_data()"
   ]
  },
  {
   "cell_type": "code",
   "execution_count": 3,
   "metadata": {},
   "outputs": [],
   "source": [
    "# 將 X 與 Y 獨立放進變數\n",
    "x_train, y_train = train\n",
    "x_test, y_test = test\n",
    "# 資料前處理 - 標準化\n",
    "x_train = x_train / 255.\n",
    "x_test = x_test / 255.\n",
    "\n",
    "# 將資料從圖形 (RGB) 轉為向量 (Single Vector)\n",
    "x_train = x_train.reshape((len(x_train), -1))\n",
    "x_test = x_test.reshape((len(x_test), -1))\n",
    "\n",
    "# 將目標轉為 one-hot encoding\n",
    "y_train = keras.utils.to_categorical(y_train, num_classes=10)\n",
    "y_test = keras.utils.to_categorical(y_test, num_classes=10)"
   ]
  },
  {
   "cell_type": "code",
   "execution_count": 4,
   "metadata": {},
   "outputs": [],
   "source": [
    "# 建立一個有三層隱藏層之神經網路\n",
    "def build_mlp():\n",
    "    input_layer = keras.layers.Input([x_train.shape[-1]])\n",
    "    x = keras.layers.Dense(units=512, activation=\"relu\")(input_layer)\n",
    "    x = keras.layers.Dense(units=256, activation=\"relu\")(x)\n",
    "    x = keras.layers.Dense(units=128, activation=\"relu\")(x)\n",
    "    out = keras.layers.Dense(units=10, activation=\"softmax\")(x)\n",
    "    \n",
    "    model = keras.models.Model(inputs=[input_layer], outputs=[out])\n",
    "    return model"
   ]
  },
  {
   "cell_type": "code",
   "execution_count": 5,
   "metadata": {},
   "outputs": [
    {
     "name": "stdout",
     "output_type": "stream",
     "text": [
      "_________________________________________________________________\n",
      "Layer (type)                 Output Shape              Param #   \n",
      "=================================================================\n",
      "input_1 (InputLayer)         (None, 3072)              0         \n",
      "_________________________________________________________________\n",
      "dense_1 (Dense)              (None, 512)               1573376   \n",
      "_________________________________________________________________\n",
      "dense_2 (Dense)              (None, 256)               131328    \n",
      "_________________________________________________________________\n",
      "dense_3 (Dense)              (None, 128)               32896     \n",
      "_________________________________________________________________\n",
      "dense_4 (Dense)              (None, 10)                1290      \n",
      "=================================================================\n",
      "Total params: 1,738,890\n",
      "Trainable params: 1,738,890\n",
      "Non-trainable params: 0\n",
      "_________________________________________________________________\n"
     ]
    }
   ],
   "source": [
    "model = build_mlp()\n",
    "# 用 Keras 內建方法檢視模型各層參數量\n",
    "model.summary()\n",
    "\n",
    "optimizer = keras.optimizers.Adam(lr=0.001)\n",
    "model.compile(loss=\"categorical_crossentropy\", metrics=[\"accuracy\"], optimizer=optimizer)"
   ]
  },
  {
   "cell_type": "code",
   "execution_count": 6,
   "metadata": {},
   "outputs": [
    {
     "name": "stdout",
     "output_type": "stream",
     "text": [
      "Train on 50000 samples, validate on 10000 samples\n",
      "Epoch 1/100\n",
      "50000/50000 [==============================] - 11s 214us/step - loss: 1.9285 - acc: 0.3017 - val_loss: 1.7915 - val_acc: 0.3629\n",
      "Epoch 2/100\n",
      "50000/50000 [==============================] - 3s 70us/step - loss: 1.7048 - acc: 0.3891 - val_loss: 1.6704 - val_acc: 0.4036\n",
      "Epoch 3/100\n",
      "50000/50000 [==============================] - 3s 69us/step - loss: 1.6227 - acc: 0.4197 - val_loss: 1.5764 - val_acc: 0.4448\n",
      "Epoch 4/100\n",
      "50000/50000 [==============================] - 4s 70us/step - loss: 1.5542 - acc: 0.4441 - val_loss: 1.5212 - val_acc: 0.4591\n",
      "Epoch 5/100\n",
      "50000/50000 [==============================] - 4s 70us/step - loss: 1.4960 - acc: 0.4681 - val_loss: 1.4931 - val_acc: 0.461463 - acc: 0\n",
      "Epoch 6/100\n",
      "50000/50000 [==============================] - 3s 70us/step - loss: 1.4633 - acc: 0.4779 - val_loss: 1.4691 - val_acc: 0.4778\n",
      "Epoch 7/100\n",
      "50000/50000 [==============================] - 3s 69us/step - loss: 1.4396 - acc: 0.4857 - val_loss: 1.4414 - val_acc: 0.4910\n",
      "Epoch 8/100\n",
      "50000/50000 [==============================] - 3s 69us/step - loss: 1.4110 - acc: 0.4957 - val_loss: 1.4457 - val_acc: 0.4832s: 1\n",
      "Epoch 9/100\n",
      "50000/50000 [==============================] - 3s 68us/step - loss: 1.3740 - acc: 0.5104 - val_loss: 1.4265 - val_acc: 0.4918\n",
      "Epoch 10/100\n",
      "50000/50000 [==============================] - 3s 68us/step - loss: 1.3442 - acc: 0.5201 - val_loss: 1.3938 - val_acc: 0.5014\n",
      "Epoch 11/100\n",
      "50000/50000 [==============================] - 4s 70us/step - loss: 1.3271 - acc: 0.5276 - val_loss: 1.4016 - val_acc: 0.5067s: 1.3236 - acc: 0.524 - ETA: 1s - loss: 1.3257  - ETA: 1s - loss:\n",
      "Epoch 12/100\n",
      "50000/50000 [==============================] - 3s 69us/step - loss: 1.2938 - acc: 0.5405 - val_loss: 1.4021 - val_acc: 0.5006\n",
      "Epoch 13/100\n",
      "50000/50000 [==============================] - 3s 69us/step - loss: 1.2721 - acc: 0.5488 - val_loss: 1.3670 - val_acc: 0.5178\n",
      "Epoch 14/100\n",
      "50000/50000 [==============================] - 3s 70us/step - loss: 1.2488 - acc: 0.5560 - val_loss: 1.3833 - val_acc: 0.5056\n",
      "Epoch 15/100\n",
      "50000/50000 [==============================] - 3s 68us/step - loss: 1.2245 - acc: 0.5639 - val_loss: 1.3889 - val_acc: 0.5069cc: \n",
      "Epoch 16/100\n",
      "50000/50000 [==============================] - 3s 68us/step - loss: 1.2164 - acc: 0.5669 - val_loss: 1.3567 - val_acc: 0.5167\n",
      "Epoch 17/100\n",
      "50000/50000 [==============================] - 3s 69us/step - loss: 1.1820 - acc: 0.5811 - val_loss: 1.3933 - val_acc: 0.5089\n",
      "Epoch 18/100\n",
      "50000/50000 [==============================] - 3s 69us/step - loss: 1.1628 - acc: 0.5855 - val_loss: 1.3692 - val_acc: 0.5154\n",
      "Epoch 19/100\n",
      "50000/50000 [==============================] - 3s 70us/step - loss: 1.1431 - acc: 0.5929 - val_loss: 1.3896 - val_acc: 0.5150\n",
      "Epoch 20/100\n",
      "50000/50000 [==============================] - 3s 69us/step - loss: 1.1235 - acc: 0.5989 - val_loss: 1.3754 - val_acc: 0.5209\n",
      "Epoch 21/100\n",
      "50000/50000 [==============================] - 3s 68us/step - loss: 1.1071 - acc: 0.6064 - val_loss: 1.3250 - val_acc: 0.5318\n",
      "Epoch 22/100\n",
      "50000/50000 [==============================] - 3s 69us/step - loss: 1.0782 - acc: 0.6162 - val_loss: 1.3369 - val_acc: 0.5321\n",
      "Epoch 23/100\n",
      "50000/50000 [==============================] - 3s 69us/step - loss: 1.0580 - acc: 0.6243 - val_loss: 1.3685 - val_acc: 0.5217: 0s - loss: 1.0534 - acc:\n",
      "Epoch 24/100\n",
      "50000/50000 [==============================] - 3s 68us/step - loss: 1.0461 - acc: 0.6276 - val_loss: 1.3918 - val_acc: 0.5235A: 1s - loss: 1.0\n",
      "Epoch 25/100\n",
      "50000/50000 [==============================] - 3s 69us/step - loss: 1.0451 - acc: 0.6297 - val_loss: 1.3646 - val_acc: 0.5268\n",
      "Epoch 26/100\n",
      "50000/50000 [==============================] - 3s 69us/step - loss: 1.0130 - acc: 0.6412 - val_loss: 1.3878 - val_acc: 0.5244\n",
      "Epoch 27/100\n",
      "50000/50000 [==============================] - 3s 68us/step - loss: 0.9902 - acc: 0.6479 - val_loss: 1.4297 - val_acc: 0.5113\n",
      "Epoch 28/100\n",
      "50000/50000 [==============================] - 3s 68us/step - loss: 0.9708 - acc: 0.6525 - val_loss: 1.3944 - val_acc: 0.5271\n",
      "Epoch 29/100\n",
      "50000/50000 [==============================] - 3s 68us/step - loss: 0.9594 - acc: 0.6598 - val_loss: 1.3973 - val_acc: 0.5329\n",
      "Epoch 30/100\n",
      "50000/50000 [==============================] - 3s 68us/step - loss: 0.9451 - acc: 0.6628 - val_loss: 1.4102 - val_acc: 0.5254\n",
      "Epoch 31/100\n",
      "50000/50000 [==============================] - 3s 67us/step - loss: 0.9175 - acc: 0.6742 - val_loss: 1.4015 - val_acc: 0.5271\n",
      "Epoch 32/100\n",
      "50000/50000 [==============================] - 3s 68us/step - loss: 0.9031 - acc: 0.6782 - val_loss: 1.4308 - val_acc: 0.5299\n",
      "Epoch 33/100\n",
      "50000/50000 [==============================] - 3s 69us/step - loss: 0.8851 - acc: 0.6840 - val_loss: 1.4820 - val_acc: 0.5128\n",
      "Epoch 34/100\n",
      "50000/50000 [==============================] - 3s 69us/step - loss: 0.8723 - acc: 0.6884 - val_loss: 1.4989 - val_acc: 0.5201\n",
      "Epoch 35/100\n",
      "50000/50000 [==============================] - 3s 68us/step - loss: 0.8450 - acc: 0.6973 - val_loss: 1.4756 - val_acc: 0.5231\n",
      "Epoch 36/100\n",
      "50000/50000 [==============================] - 3s 68us/step - loss: 0.8368 - acc: 0.6993 - val_loss: 1.4858 - val_acc: 0.5230\n",
      "Epoch 37/100\n",
      "50000/50000 [==============================] - 3s 69us/step - loss: 0.8188 - acc: 0.7069 - val_loss: 1.5206 - val_acc: 0.5193\n",
      "Epoch 38/100\n",
      "50000/50000 [==============================] - 3s 69us/step - loss: 0.8025 - acc: 0.7143 - val_loss: 1.5298 - val_acc: 0.5222\n",
      "Epoch 39/100\n",
      "50000/50000 [==============================] - 3s 68us/step - loss: 0.7760 - acc: 0.7210 - val_loss: 1.6027 - val_acc: 0.5119\n",
      "Epoch 40/100\n",
      "50000/50000 [==============================] - 3s 69us/step - loss: 0.7704 - acc: 0.7257 - val_loss: 1.5964 - val_acc: 0.5177\n",
      "Epoch 41/100\n",
      "50000/50000 [==============================] - 3s 69us/step - loss: 0.7444 - acc: 0.7359 - val_loss: 1.5871 - val_acc: 0.5215\n",
      "Epoch 42/100\n",
      "50000/50000 [==============================] - 3s 68us/step - loss: 0.7356 - acc: 0.7369 - val_loss: 1.6313 - val_acc: 0.5154\n",
      "Epoch 43/100\n",
      "50000/50000 [==============================] - 3s 68us/step - loss: 0.7327 - acc: 0.7372 - val_loss: 1.6441 - val_acc: 0.5189\n",
      "Epoch 44/100\n",
      "50000/50000 [==============================] - 3s 69us/step - loss: 0.7090 - acc: 0.7490 - val_loss: 1.6741 - val_acc: 0.5122\n",
      "Epoch 45/100\n",
      "50000/50000 [==============================] - 3s 69us/step - loss: 0.6928 - acc: 0.7517 - val_loss: 1.7225 - val_acc: 0.5099\n",
      "Epoch 46/100\n",
      "50000/50000 [==============================] - 3s 69us/step - loss: 0.6710 - acc: 0.7592 - val_loss: 1.6578 - val_acc: 0.523689 - acc: 0\n",
      "Epoch 47/100\n",
      "50000/50000 [==============================] - 3s 69us/step - loss: 0.6679 - acc: 0.7602 - val_loss: 1.7275 - val_acc: 0.5142\n",
      "Epoch 48/100\n",
      "50000/50000 [==============================] - 3s 67us/step - loss: 0.6516 - acc: 0.7660 - val_loss: 1.7098 - val_acc: 0.5242\n",
      "Epoch 49/100\n",
      "50000/50000 [==============================] - 3s 69us/step - loss: 0.6493 - acc: 0.7668 - val_loss: 1.7478 - val_acc: 0.5230\n",
      "Epoch 50/100\n",
      "50000/50000 [==============================] - 3s 68us/step - loss: 0.6259 - acc: 0.7760 - val_loss: 1.7887 - val_acc: 0.5187\n",
      "Epoch 51/100\n",
      "50000/50000 [==============================] - 3s 68us/step - loss: 0.6135 - acc: 0.7806 - val_loss: 1.8136 - val_acc: 0.5178\n",
      "Epoch 52/100\n",
      "50000/50000 [==============================] - 3s 69us/step - loss: 0.6051 - acc: 0.7840 - val_loss: 1.7910 - val_acc: 0.5212\n",
      "Epoch 53/100\n",
      "50000/50000 [==============================] - 3s 69us/step - loss: 0.5936 - acc: 0.7885 - val_loss: 1.8782 - val_acc: 0.5084\n",
      "Epoch 54/100\n",
      "50000/50000 [==============================] - 3s 68us/step - loss: 0.5894 - acc: 0.7880 - val_loss: 1.8356 - val_acc: 0.5238s: 0. - ETA: 0s - loss: 0.5845 - acc: 0\n",
      "Epoch 55/100\n",
      "50000/50000 [==============================] - 3s 69us/step - loss: 0.5805 - acc: 0.7910 - val_loss: 1.8990 - val_acc: 0.5171\n",
      "Epoch 56/100\n",
      "50000/50000 [==============================] - 3s 68us/step - loss: 0.5571 - acc: 0.8006 - val_loss: 1.9348 - val_acc: 0.5187\n",
      "Epoch 57/100\n",
      "50000/50000 [==============================] - 3s 69us/step - loss: 0.5379 - acc: 0.8098 - val_loss: 1.9321 - val_acc: 0.5172\n",
      "Epoch 58/100\n"
     ]
    },
    {
     "name": "stdout",
     "output_type": "stream",
     "text": [
      "50000/50000 [==============================] - 3s 70us/step - loss: 0.5254 - acc: 0.8118 - val_loss: 2.0770 - val_acc: 0.5045\n",
      "Epoch 59/100\n",
      "50000/50000 [==============================] - 3s 69us/step - loss: 0.5370 - acc: 0.8108 - val_loss: 2.0454 - val_acc: 0.5173\n",
      "Epoch 60/100\n",
      "50000/50000 [==============================] - 3s 70us/step - loss: 0.5313 - acc: 0.8092 - val_loss: 2.0468 - val_acc: 0.5146- loss: 0.5184 - acc: 0.8 - ETA: 1s - loss:\n",
      "Epoch 61/100\n",
      "50000/50000 [==============================] - 3s 70us/step - loss: 0.5271 - acc: 0.8113 - val_loss: 2.1732 - val_acc: 0.5046\n",
      "Epoch 62/100\n",
      "50000/50000 [==============================] - 3s 69us/step - loss: 0.5130 - acc: 0.8151 - val_loss: 2.0709 - val_acc: 0.5107\n",
      "Epoch 63/100\n",
      "50000/50000 [==============================] - 3s 69us/step - loss: 0.4861 - acc: 0.8248 - val_loss: 2.1896 - val_acc: 0.4992\n",
      "Epoch 64/100\n",
      "50000/50000 [==============================] - 3s 69us/step - loss: 0.4908 - acc: 0.8256 - val_loss: 2.1479 - val_acc: 0.5116\n",
      "Epoch 65/100\n",
      "50000/50000 [==============================] - 3s 69us/step - loss: 0.4781 - acc: 0.8294 - val_loss: 2.1875 - val_acc: 0.5173\n",
      "Epoch 66/100\n",
      "50000/50000 [==============================] - 3s 69us/step - loss: 0.4683 - acc: 0.8316 - val_loss: 2.2207 - val_acc: 0.5086\n",
      "Epoch 67/100\n",
      "50000/50000 [==============================] - 3s 68us/step - loss: 0.4477 - acc: 0.8414 - val_loss: 2.2580 - val_acc: 0.5102\n",
      "Epoch 68/100\n",
      "50000/50000 [==============================] - 3s 69us/step - loss: 0.4476 - acc: 0.8409 - val_loss: 2.2612 - val_acc: 0.50840.4458 - acc: 0\n",
      "Epoch 69/100\n",
      "50000/50000 [==============================] - 3s 69us/step - loss: 0.4543 - acc: 0.8377 - val_loss: 2.2636 - val_acc: 0.5109\n",
      "Epoch 70/100\n",
      "50000/50000 [==============================] - 3s 70us/step - loss: 0.4315 - acc: 0.8451 - val_loss: 2.2781 - val_acc: 0.5118\n",
      "Epoch 71/100\n",
      "50000/50000 [==============================] - 3s 70us/step - loss: 0.4284 - acc: 0.8479 - val_loss: 2.3325 - val_acc: 0.5117 0.848\n",
      "Epoch 72/100\n",
      "50000/50000 [==============================] - 3s 69us/step - loss: 0.4271 - acc: 0.8477 - val_loss: 2.3496 - val_acc: 0.5080\n",
      "Epoch 73/100\n",
      "50000/50000 [==============================] - 4s 70us/step - loss: 0.4121 - acc: 0.8525 - val_loss: 2.4480 - val_acc: 0.4995\n",
      "Epoch 74/100\n",
      "50000/50000 [==============================] - 3s 69us/step - loss: 0.4187 - acc: 0.8501 - val_loss: 2.3724 - val_acc: 0.5057\n",
      "Epoch 75/100\n",
      "50000/50000 [==============================] - 4s 70us/step - loss: 0.3909 - acc: 0.8609 - val_loss: 2.4627 - val_acc: 0.5009\n",
      "Epoch 76/100\n",
      "50000/50000 [==============================] - 3s 69us/step - loss: 0.3819 - acc: 0.8639 - val_loss: 2.4576 - val_acc: 0.5109\n",
      "Epoch 77/100\n",
      "50000/50000 [==============================] - 3s 69us/step - loss: 0.3823 - acc: 0.8620 - val_loss: 2.5449 - val_acc: 0.5043\n",
      "Epoch 78/100\n",
      "50000/50000 [==============================] - 3s 69us/step - loss: 0.3636 - acc: 0.8694 - val_loss: 2.5252 - val_acc: 0.5064\n",
      "Epoch 79/100\n",
      "50000/50000 [==============================] - 3s 69us/step - loss: 0.3763 - acc: 0.8663 - val_loss: 2.6295 - val_acc: 0.4984\n",
      "Epoch 80/100\n",
      "50000/50000 [==============================] - 3s 69us/step - loss: 0.3761 - acc: 0.8649 - val_loss: 2.5206 - val_acc: 0.5114\n",
      "Epoch 81/100\n",
      "50000/50000 [==============================] - 4s 70us/step - loss: 0.3379 - acc: 0.8809 - val_loss: 2.7129 - val_acc: 0.5009\n",
      "Epoch 82/100\n",
      "50000/50000 [==============================] - 3s 69us/step - loss: 0.3691 - acc: 0.8667 - val_loss: 2.6802 - val_acc: 0.5047\n",
      "Epoch 83/100\n",
      "50000/50000 [==============================] - 3s 69us/step - loss: 0.3459 - acc: 0.8773 - val_loss: 2.7466 - val_acc: 0.4993\n",
      "Epoch 84/100\n",
      "50000/50000 [==============================] - 3s 69us/step - loss: 0.3585 - acc: 0.8707 - val_loss: 2.7447 - val_acc: 0.5079\n",
      "Epoch 85/100\n",
      "50000/50000 [==============================] - 3s 69us/step - loss: 0.3440 - acc: 0.8764 - val_loss: 2.6868 - val_acc: 0.5094\n",
      "Epoch 86/100\n",
      "50000/50000 [==============================] - 3s 68us/step - loss: 0.3533 - acc: 0.8726 - val_loss: 2.7597 - val_acc: 0.4991\n",
      "Epoch 87/100\n",
      "50000/50000 [==============================] - 3s 69us/step - loss: 0.3273 - acc: 0.8820 - val_loss: 2.7147 - val_acc: 0.5055\n",
      "Epoch 88/100\n",
      "50000/50000 [==============================] - 3s 69us/step - loss: 0.3300 - acc: 0.8818 - val_loss: 2.7657 - val_acc: 0.5095\n",
      "Epoch 89/100\n",
      "50000/50000 [==============================] - 3s 69us/step - loss: 0.3270 - acc: 0.8828 - val_loss: 2.9229 - val_acc: 0.4993\n",
      "Epoch 90/100\n",
      "50000/50000 [==============================] - 3s 69us/step - loss: 0.3201 - acc: 0.8847 - val_loss: 2.8543 - val_acc: 0.4932\n",
      "Epoch 91/100\n",
      "50000/50000 [==============================] - 3s 69us/step - loss: 0.3044 - acc: 0.8909 - val_loss: 2.8376 - val_acc: 0.5069\n",
      "Epoch 92/100\n",
      "50000/50000 [==============================] - 3s 69us/step - loss: 0.3050 - acc: 0.8898 - val_loss: 2.9263 - val_acc: 0.5023\n",
      "Epoch 93/100\n",
      "50000/50000 [==============================] - 3s 69us/step - loss: 0.3022 - acc: 0.8912 - val_loss: 2.8762 - val_acc: 0.5047\n",
      "Epoch 94/100\n",
      "50000/50000 [==============================] - 3s 68us/step - loss: 0.3341 - acc: 0.8813 - val_loss: 2.9853 - val_acc: 0.4949\n",
      "Epoch 95/100\n",
      "50000/50000 [==============================] - 3s 69us/step - loss: 0.2968 - acc: 0.8929 - val_loss: 2.9667 - val_acc: 0.5052\n",
      "Epoch 96/100\n",
      "50000/50000 [==============================] - 3s 70us/step - loss: 0.2673 - acc: 0.9056 - val_loss: 3.0216 - val_acc: 0.5060\n",
      "Epoch 97/100\n",
      "50000/50000 [==============================] - 3s 69us/step - loss: 0.2998 - acc: 0.8922 - val_loss: 3.0167 - val_acc: 0.4926\n",
      "Epoch 98/100\n",
      "50000/50000 [==============================] - 3s 68us/step - loss: 0.2800 - acc: 0.9001 - val_loss: 3.0666 - val_acc: 0.4946\n",
      "Epoch 99/100\n",
      "50000/50000 [==============================] - 3s 66us/step - loss: 0.3192 - acc: 0.8843 - val_loss: 3.2000 - val_acc: 0.4907\n",
      "Epoch 100/100\n",
      "50000/50000 [==============================] - 3s 69us/step - loss: 0.3025 - acc: 0.8917 - val_loss: 3.0204 - val_acc: 0.5020\n"
     ]
    },
    {
     "data": {
      "text/plain": [
       "<keras.callbacks.History at 0x260d5f66a20>"
      ]
     },
     "execution_count": 6,
     "metadata": {},
     "output_type": "execute_result"
    }
   ],
   "source": [
    "# 訓練模型並檢視驗證集的結果\n",
    "model.fit(x_train, y_train, \n",
    "          epochs=100, \n",
    "          batch_size=256, \n",
    "          validation_data=(x_test, y_test), \n",
    "          shuffle=True)"
   ]
  },
  {
   "cell_type": "code",
   "execution_count": 7,
   "metadata": {},
   "outputs": [
    {
     "data": {
      "image/png": "[encoded data removed]",
      "text/plain": [
       "<Figure size 432x288 with 1 Axes>"
      ]
     },
     "metadata": {
      "needs_background": "light"
     },
     "output_type": "display_data"
    },
    {
     "data": {
      "image/png": "[encoded data removed]",
      "text/plain": [
       "<Figure size 432x288 with 1 Axes>"
      ]
     },
     "metadata": {
      "needs_background": "light"
     },
     "output_type": "display_data"
    }
   ],
   "source": [
    "# 以視覺畫方式檢視訓練過程\n",
    "import matplotlib.pyplot as plt\n",
    "train_loss = model.history.history[\"loss\"]\n",
    "valid_loss = model.history.history[\"val_loss\"]\n",
    "\n",
    "train_acc = model.history.history[\"acc\"]\n",
    "valid_acc = model.history.history[\"val_acc\"]\n",
    "\n",
    "plt.plot(range(len(train_loss)), train_loss, label=\"train loss\")\n",
    "plt.plot(range(len(valid_loss)), valid_loss, label=\"valid loss\")\n",
    "plt.legend()\n",
    "plt.title(\"Loss\")\n",
    "plt.show()\n",
    "\n",
    "plt.plot(range(len(train_acc)), train_acc, label=\"train accuracy\")\n",
    "plt.plot(range(len(valid_acc)), valid_acc, label=\"valid accuracy\")\n",
    "plt.legend()\n",
    "plt.title(\"Accuracy\")\n",
    "plt.show()"
   ]
  },
  {
   "cell_type": "markdown",
   "metadata": {},
   "source": [
    "## 作業\n",
    "1. 請將 Epoch 加到 500 個，並觀察 learning curve 的走勢\n",
    "2. 請將 Optimizer 換成 SGD，並觀察 learning curve 的走勢"
   ]
  }
 ],
 "metadata": {
  "kernelspec": {
   "display_name": "Python 3",
   "language": "python",
   "name": "python3"
  },
  "language_info": {
   "codemirror_mode": {
    "name": "ipython",
    "version": 3
   },
   "file_extension": ".py",
   "mimetype": "text/x-python",
   "name": "python",
   "nbconvert_exporter": "python",
   "pygments_lexer": "ipython3",
   "version": "3.6.10"
  }
 },
 "nbformat": 4,
 "nbformat_minor": 2
}
