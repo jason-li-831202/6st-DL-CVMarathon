{
 "cells": [
  {
   "cell_type": "markdown",
   "metadata": {},
   "source": [
    "## 範例重點\n",
    "* 知道如何在 keras 中加入 dropout\n",
    "* 了解 dropout 中 ratio 的意義與對訓練的影響"
   ]
  },
  {
   "cell_type": "code",
   "execution_count": 9,
   "metadata": {},
   "outputs": [],
   "source": [
    "import os\n",
    "import keras\n",
    "\n",
    "# 本範例不需使用 GPU, 將 GPU 設定為 \"無\"\n",
    "os.environ[\"CUDA_VISIBLE_DEVICES\"] = \"\""
   ]
  },
  {
   "cell_type": "code",
   "execution_count": 10,
   "metadata": {},
   "outputs": [],
   "source": [
    "train, test = keras.datasets.cifar10.load_data()"
   ]
  },
  {
   "cell_type": "code",
   "execution_count": 11,
   "metadata": {},
   "outputs": [],
   "source": [
    "## 資料前處理\n",
    "def preproc_x(x, flatten=True):\n",
    "    x = x / 255.\n",
    "    if flatten:\n",
    "        x = x.reshape((len(x), -1))\n",
    "    return x\n",
    "\n",
    "def preproc_y(y, num_classes=10):\n",
    "    if y.shape[-1] == 1:\n",
    "        y = keras.utils.to_categorical(y, num_classes)\n",
    "    return y    "
   ]
  },
  {
   "cell_type": "code",
   "execution_count": 12,
   "metadata": {},
   "outputs": [],
   "source": [
    "x_train, y_train = train\n",
    "x_test, y_test = test\n",
    "\n",
    "# 資料前處理 - X 標準化\n",
    "x_train = preproc_x(x_train)\n",
    "x_test = preproc_x(x_test)\n",
    "\n",
    "# 資料前處理 -Y 轉成 onehot\n",
    "y_train = preproc_y(y_train)\n",
    "y_test = preproc_y(y_test)"
   ]
  },
  {
   "cell_type": "code",
   "execution_count": 5,
   "metadata": {},
   "outputs": [],
   "source": [
    "from keras.layers import Dropout\n",
    "\n",
    "\"\"\"\n",
    "建立神經網路，並加入 dropout layer\n",
    "\"\"\"\n",
    "def build_mlp(input_shape, output_units=10, num_neurons=[512, 256, 128], drp_ratio=0.2):\n",
    "    input_layer = keras.layers.Input(input_shape)\n",
    "    \n",
    "    for i, n_units in enumerate(num_neurons):\n",
    "        if i == 0:\n",
    "            x = keras.layers.Dense(units=n_units, \n",
    "                                   activation=\"relu\", \n",
    "                                   name=\"hidden_layer\"+str(i+1))(input_layer)\n",
    "            x = Dropout(drp_ratio)(x)\n",
    "        else:\n",
    "            x = keras.layers.Dense(units=n_units, \n",
    "                                   activation=\"relu\", \n",
    "                                   name=\"hidden_layer\"+str(i+1))(x)\n",
    "            x = Dropout(drp_ratio)(x)\n",
    "    \n",
    "    out = keras.layers.Dense(units=output_units, activation=\"softmax\", name=\"output\")(x)\n",
    "    \n",
    "    model = keras.models.Model(inputs=[input_layer], outputs=[out])\n",
    "    return model"
   ]
  },
  {
   "cell_type": "code",
   "execution_count": 19,
   "metadata": {},
   "outputs": [],
   "source": [
    "## 超參數設定\n",
    "LEARNING_RATE = 1e-3\n",
    "EPOCHS = 50\n",
    "BATCH_SIZE = 256\n",
    "MOMENTUM = 0.95\n",
    "Dropout_EXP = 0.2"
   ]
  },
  {
   "cell_type": "code",
   "execution_count": 20,
   "metadata": {
    "scrolled": true
   },
   "outputs": [
    {
     "name": "stdout",
     "output_type": "stream",
     "text": [
      "_________________________________________________________________\n",
      "Layer (type)                 Output Shape              Param #   \n",
      "=================================================================\n",
      "input_5 (InputLayer)         (None, 3072)              0         \n",
      "_________________________________________________________________\n",
      "hidden_layer1 (Dense)        (None, 512)               1573376   \n",
      "_________________________________________________________________\n",
      "dropout_13 (Dropout)         (None, 512)               0         \n",
      "_________________________________________________________________\n",
      "hidden_layer2 (Dense)        (None, 256)               131328    \n",
      "_________________________________________________________________\n",
      "dropout_14 (Dropout)         (None, 256)               0         \n",
      "_________________________________________________________________\n",
      "hidden_layer3 (Dense)        (None, 128)               32896     \n",
      "_________________________________________________________________\n",
      "dropout_15 (Dropout)         (None, 128)               0         \n",
      "_________________________________________________________________\n",
      "output (Dense)               (None, 10)                1290      \n",
      "=================================================================\n",
      "Total params: 1,738,890\n",
      "Trainable params: 1,738,890\n",
      "Non-trainable params: 0\n",
      "_________________________________________________________________\n",
      "Train on 50000 samples, validate on 10000 samples\n",
      "Epoch 1/50\n",
      "50000/50000 [==============================] - 4s 72us/step - loss: 2.1542 - acc: 0.2024 - val_loss: 1.9506 - val_acc: 0.3080\n",
      "Epoch 2/50\n",
      "50000/50000 [==============================] - 3s 63us/step - loss: 1.9559 - acc: 0.2887 - val_loss: 1.8416 - val_acc: 0.3491\n",
      "Epoch 3/50\n",
      "50000/50000 [==============================] - 3s 60us/step - loss: 1.8717 - acc: 0.3256 - val_loss: 1.7691 - val_acc: 0.3747\n",
      "Epoch 4/50\n",
      "50000/50000 [==============================] - 3s 58us/step - loss: 1.8185 - acc: 0.3483 - val_loss: 1.7229 - val_acc: 0.3902\n",
      "Epoch 5/50\n",
      "50000/50000 [==============================] - 3s 59us/step - loss: 1.7737 - acc: 0.3663 - val_loss: 1.6885 - val_acc: 0.4024\n",
      "Epoch 6/50\n",
      "50000/50000 [==============================] - 3s 60us/step - loss: 1.7403 - acc: 0.3759 - val_loss: 1.6432 - val_acc: 0.4193\n",
      "Epoch 7/50\n",
      "50000/50000 [==============================] - 3s 60us/step - loss: 1.7063 - acc: 0.3928 - val_loss: 1.6149 - val_acc: 0.4282\n",
      "Epoch 8/50\n",
      "50000/50000 [==============================] - 3s 60us/step - loss: 1.6806 - acc: 0.4004 - val_loss: 1.5948 - val_acc: 0.4366\n",
      "Epoch 9/50\n",
      "50000/50000 [==============================] - 3s 60us/step - loss: 1.6560 - acc: 0.4093 - val_loss: 1.5712 - val_acc: 0.4437\n",
      "Epoch 10/50\n",
      "50000/50000 [==============================] - 3s 61us/step - loss: 1.6381 - acc: 0.4174 - val_loss: 1.5514 - val_acc: 0.4520\n",
      "Epoch 11/50\n",
      "50000/50000 [==============================] - 3s 61us/step - loss: 1.6113 - acc: 0.4273 - val_loss: 1.5334 - val_acc: 0.4590\n",
      "Epoch 12/50\n",
      "50000/50000 [==============================] - 3s 59us/step - loss: 1.5988 - acc: 0.4306 - val_loss: 1.5238 - val_acc: 0.4588\n",
      "Epoch 13/50\n",
      "50000/50000 [==============================] - 3s 59us/step - loss: 1.5821 - acc: 0.4375 - val_loss: 1.5012 - val_acc: 0.4709\n",
      "Epoch 14/50\n",
      "50000/50000 [==============================] - 3s 61us/step - loss: 1.5606 - acc: 0.4451 - val_loss: 1.4849 - val_acc: 0.4693\n",
      "Epoch 15/50\n",
      "50000/50000 [==============================] - 3s 61us/step - loss: 1.5497 - acc: 0.4488 - val_loss: 1.4860 - val_acc: 0.4659\n",
      "Epoch 16/50\n",
      "50000/50000 [==============================] - 3s 61us/step - loss: 1.5353 - acc: 0.4557 - val_loss: 1.4745 - val_acc: 0.4707\n",
      "Epoch 17/50\n",
      "50000/50000 [==============================] - 3s 60us/step - loss: 1.5229 - acc: 0.4573 - val_loss: 1.4518 - val_acc: 0.4810\n",
      "Epoch 18/50\n",
      "50000/50000 [==============================] - 3s 61us/step - loss: 1.5069 - acc: 0.4640 - val_loss: 1.4471 - val_acc: 0.4857\n",
      "Epoch 19/50\n",
      "50000/50000 [==============================] - 3s 61us/step - loss: 1.4964 - acc: 0.4659 - val_loss: 1.4488 - val_acc: 0.4781\n",
      "Epoch 20/50\n",
      "50000/50000 [==============================] - 3s 61us/step - loss: 1.4817 - acc: 0.4735 - val_loss: 1.4285 - val_acc: 0.4931\n",
      "Epoch 21/50\n",
      "50000/50000 [==============================] - 3s 60us/step - loss: 1.4717 - acc: 0.4748 - val_loss: 1.4117 - val_acc: 0.4952\n",
      "Epoch 22/50\n",
      "50000/50000 [==============================] - 3s 61us/step - loss: 1.4629 - acc: 0.4785 - val_loss: 1.4150 - val_acc: 0.4968\n",
      "Epoch 23/50\n",
      "50000/50000 [==============================] - 3s 60us/step - loss: 1.4502 - acc: 0.4833 - val_loss: 1.4023 - val_acc: 0.4990\n",
      "Epoch 24/50\n",
      "50000/50000 [==============================] - 3s 61us/step - loss: 1.4405 - acc: 0.4889 - val_loss: 1.4104 - val_acc: 0.4930\n",
      "Epoch 25/50\n",
      "50000/50000 [==============================] - 3s 60us/step - loss: 1.4275 - acc: 0.4904 - val_loss: 1.3979 - val_acc: 0.5006\n",
      "Epoch 26/50\n",
      "50000/50000 [==============================] - 3s 61us/step - loss: 1.4169 - acc: 0.4947 - val_loss: 1.4020 - val_acc: 0.5004\n",
      "Epoch 27/50\n",
      "50000/50000 [==============================] - 3s 61us/step - loss: 1.4088 - acc: 0.4989 - val_loss: 1.3807 - val_acc: 0.5032\n",
      "Epoch 28/50\n",
      "50000/50000 [==============================] - 3s 61us/step - loss: 1.4002 - acc: 0.5009 - val_loss: 1.3740 - val_acc: 0.5106\n",
      "Epoch 29/50\n",
      "50000/50000 [==============================] - 3s 61us/step - loss: 1.3914 - acc: 0.5040 - val_loss: 1.3708 - val_acc: 0.5148\n",
      "Epoch 30/50\n",
      "50000/50000 [==============================] - 3s 61us/step - loss: 1.3779 - acc: 0.5084 - val_loss: 1.3665 - val_acc: 0.5147\n",
      "Epoch 31/50\n",
      "50000/50000 [==============================] - 3s 61us/step - loss: 1.3698 - acc: 0.5117 - val_loss: 1.3562 - val_acc: 0.5146\n",
      "Epoch 32/50\n",
      "50000/50000 [==============================] - 3s 59us/step - loss: 1.3587 - acc: 0.5165 - val_loss: 1.3600 - val_acc: 0.5127\n",
      "Epoch 33/50\n",
      "50000/50000 [==============================] - 3s 60us/step - loss: 1.3545 - acc: 0.5148 - val_loss: 1.3524 - val_acc: 0.5224\n",
      "Epoch 34/50\n",
      "50000/50000 [==============================] - 3s 61us/step - loss: 1.3461 - acc: 0.5204 - val_loss: 1.3500 - val_acc: 0.5186\n",
      "Epoch 35/50\n",
      "50000/50000 [==============================] - 3s 60us/step - loss: 1.3378 - acc: 0.5230 - val_loss: 1.3595 - val_acc: 0.5093\n",
      "Epoch 36/50\n",
      "50000/50000 [==============================] - 3s 60us/step - loss: 1.3308 - acc: 0.5242 - val_loss: 1.3384 - val_acc: 0.5231\n",
      "Epoch 37/50\n",
      "50000/50000 [==============================] - 3s 61us/step - loss: 1.3218 - acc: 0.5275 - val_loss: 1.3306 - val_acc: 0.5268\n",
      "Epoch 38/50\n",
      "50000/50000 [==============================] - 3s 61us/step - loss: 1.3138 - acc: 0.5321 - val_loss: 1.3301 - val_acc: 0.5290\n",
      "Epoch 39/50\n",
      "50000/50000 [==============================] - 3s 61us/step - loss: 1.3046 - acc: 0.5332 - val_loss: 1.3288 - val_acc: 0.5263\n",
      "Epoch 40/50\n",
      "50000/50000 [==============================] - 3s 60us/step - loss: 1.3030 - acc: 0.5319 - val_loss: 1.3261 - val_acc: 0.5268\n",
      "Epoch 41/50\n",
      "50000/50000 [==============================] - 3s 59us/step - loss: 1.2939 - acc: 0.5353 - val_loss: 1.3213 - val_acc: 0.5274\n",
      "Epoch 42/50\n",
      "50000/50000 [==============================] - 3s 59us/step - loss: 1.2865 - acc: 0.5403 - val_loss: 1.3188 - val_acc: 0.5343\n",
      "Epoch 43/50\n",
      "50000/50000 [==============================] - 3s 60us/step - loss: 1.2812 - acc: 0.5412 - val_loss: 1.3132 - val_acc: 0.5284\n",
      "Epoch 44/50\n",
      "50000/50000 [==============================] - 3s 61us/step - loss: 1.2719 - acc: 0.5465 - val_loss: 1.3046 - val_acc: 0.5379\n",
      "Epoch 45/50\n",
      "50000/50000 [==============================] - 3s 60us/step - loss: 1.2641 - acc: 0.5494 - val_loss: 1.3119 - val_acc: 0.5311\n",
      "Epoch 46/50\n",
      "50000/50000 [==============================] - 3s 60us/step - loss: 1.2655 - acc: 0.5482 - val_loss: 1.2997 - val_acc: 0.5379\n",
      "Epoch 47/50\n",
      "50000/50000 [==============================] - 3s 60us/step - loss: 1.2497 - acc: 0.5543 - val_loss: 1.3021 - val_acc: 0.5359\n",
      "Epoch 48/50\n",
      "50000/50000 [==============================] - 3s 59us/step - loss: 1.2472 - acc: 0.5558 - val_loss: 1.3105 - val_acc: 0.5280\n",
      "Epoch 49/50\n",
      "50000/50000 [==============================] - 3s 61us/step - loss: 1.2353 - acc: 0.5594 - val_loss: 1.3016 - val_acc: 0.5359\n"
     ]
    },
    {
     "name": "stdout",
     "output_type": "stream",
     "text": [
      "Epoch 50/50\n",
      "50000/50000 [==============================] - 3s 61us/step - loss: 1.2306 - acc: 0.5572 - val_loss: 1.2991 - val_acc: 0.5392\n"
     ]
    }
   ],
   "source": [
    "model = build_mlp(input_shape=x_train.shape[1:], drp_ratio=Dropout_EXP)\n",
    "model.summary()\n",
    "optimizer = keras.optimizers.SGD(lr=LEARNING_RATE, nesterov=True, momentum=MOMENTUM)\n",
    "model.compile(loss=\"categorical_crossentropy\", metrics=[\"accuracy\"], optimizer=optimizer)\n",
    "\n",
    "model.fit(x_train, y_train, \n",
    "          epochs=EPOCHS, \n",
    "          batch_size=BATCH_SIZE, \n",
    "          validation_data=(x_test, y_test), \n",
    "          shuffle=True)\n",
    "\n",
    "# Collect results\n",
    "train_loss = model.history.history[\"loss\"]\n",
    "valid_loss = model.history.history[\"val_loss\"]\n",
    "train_acc = model.history.history[\"acc\"]\n",
    "valid_acc = model.history.history[\"val_acc\"]"
   ]
  },
  {
   "cell_type": "code",
   "execution_count": 21,
   "metadata": {},
   "outputs": [
    {
     "data": {
      "image/png": "[encoded data removed]",
      "text/plain": [
       "<Figure size 432x288 with 1 Axes>"
      ]
     },
     "metadata": {
      "needs_background": "light"
     },
     "output_type": "display_data"
    },
    {
     "data": {
      "image/png": "[encoded data removed]",
      "text/plain": [
       "<Figure size 432x288 with 1 Axes>"
      ]
     },
     "metadata": {
      "needs_background": "light"
     },
     "output_type": "display_data"
    }
   ],
   "source": [
    "import matplotlib.pyplot as plt\n",
    "%matplotlib inline\n",
    "\n",
    "plt.plot(range(len(train_loss)), train_loss, label=\"train loss\")\n",
    "plt.plot(range(len(valid_loss)), valid_loss, label=\"valid loss\")\n",
    "plt.legend()\n",
    "plt.title(\"Loss\")\n",
    "plt.show()\n",
    "\n",
    "plt.plot(range(len(train_acc)), train_acc, label=\"train accuracy\")\n",
    "plt.plot(range(len(valid_acc)), valid_acc, label=\"valid accuracy\")\n",
    "plt.legend()\n",
    "plt.title(\"Accuracy\")\n",
    "plt.show()"
   ]
  },
  {
   "cell_type": "markdown",
   "metadata": {},
   "source": [
    "## Work\n",
    "1. 請比較使用不同層數以及不同 Dropout rate 對訓練的效果\n",
    "2. 將 optimizer 改成使用 Adam 並加上適當的 dropout rate 檢視結果"
   ]
  }
 ],
 "metadata": {
  "kernelspec": {
   "display_name": "Python 3",
   "language": "python",
   "name": "python3"
  },
  "language_info": {
   "codemirror_mode": {
    "name": "ipython",
    "version": 3
   },
   "file_extension": ".py",
   "mimetype": "text/x-python",
   "name": "python",
   "nbconvert_exporter": "python",
   "pygments_lexer": "ipython3",
   "version": "3.6.10"
  }
 },
 "nbformat": 4,
 "nbformat_minor": 2
}
