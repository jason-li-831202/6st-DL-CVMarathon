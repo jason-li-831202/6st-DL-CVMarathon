{
 "cells": [
  {
   "cell_type": "markdown",
   "metadata": {},
   "source": [
    "## Work\n",
    "1. 請比較使用不同層數以及不同 Dropout rate 對訓練的效果\n",
    "2. 將 optimizer 改成使用 Adam 並加上適當的 dropout rate 檢視結果"
   ]
  },
  {
   "cell_type": "code",
   "execution_count": 1,
   "metadata": {},
   "outputs": [
    {
     "name": "stderr",
     "output_type": "stream",
     "text": [
      "Using TensorFlow backend.\n",
      "C:\\Users\\zuoo5\\Anaconda3\\envs\\tensorflow-gpu\\lib\\site-packages\\tensorflow\\python\\framework\\dtypes.py:523: FutureWarning: Passing (type, 1) or '1type' as a synonym of type is deprecated; in a future version of numpy, it will be understood as (type, (1,)) / '(1,)type'.\n",
      "  _np_qint8 = np.dtype([(\"qint8\", np.int8, 1)])\n",
      "C:\\Users\\zuoo5\\Anaconda3\\envs\\tensorflow-gpu\\lib\\site-packages\\tensorflow\\python\\framework\\dtypes.py:524: FutureWarning: Passing (type, 1) or '1type' as a synonym of type is deprecated; in a future version of numpy, it will be understood as (type, (1,)) / '(1,)type'.\n",
      "  _np_quint8 = np.dtype([(\"quint8\", np.uint8, 1)])\n",
      "C:\\Users\\zuoo5\\Anaconda3\\envs\\tensorflow-gpu\\lib\\site-packages\\tensorflow\\python\\framework\\dtypes.py:525: FutureWarning: Passing (type, 1) or '1type' as a synonym of type is deprecated; in a future version of numpy, it will be understood as (type, (1,)) / '(1,)type'.\n",
      "  _np_qint16 = np.dtype([(\"qint16\", np.int16, 1)])\n",
      "C:\\Users\\zuoo5\\Anaconda3\\envs\\tensorflow-gpu\\lib\\site-packages\\tensorflow\\python\\framework\\dtypes.py:526: FutureWarning: Passing (type, 1) or '1type' as a synonym of type is deprecated; in a future version of numpy, it will be understood as (type, (1,)) / '(1,)type'.\n",
      "  _np_quint16 = np.dtype([(\"quint16\", np.uint16, 1)])\n",
      "C:\\Users\\zuoo5\\Anaconda3\\envs\\tensorflow-gpu\\lib\\site-packages\\tensorflow\\python\\framework\\dtypes.py:527: FutureWarning: Passing (type, 1) or '1type' as a synonym of type is deprecated; in a future version of numpy, it will be understood as (type, (1,)) / '(1,)type'.\n",
      "  _np_qint32 = np.dtype([(\"qint32\", np.int32, 1)])\n",
      "C:\\Users\\zuoo5\\Anaconda3\\envs\\tensorflow-gpu\\lib\\site-packages\\tensorflow\\python\\framework\\dtypes.py:532: FutureWarning: Passing (type, 1) or '1type' as a synonym of type is deprecated; in a future version of numpy, it will be understood as (type, (1,)) / '(1,)type'.\n",
      "  np_resource = np.dtype([(\"resource\", np.ubyte, 1)])\n"
     ]
    }
   ],
   "source": [
    "import os\n",
    "import keras\n",
    "import itertools\n",
    "# Disable GPU\n",
    "os.environ[\"CUDA_VISIBLE_DEVICES\"] = \"\""
   ]
  },
  {
   "cell_type": "code",
   "execution_count": 2,
   "metadata": {},
   "outputs": [],
   "source": [
    "train, test = keras.datasets.cifar10.load_data()"
   ]
  },
  {
   "cell_type": "code",
   "execution_count": 3,
   "metadata": {},
   "outputs": [],
   "source": [
    "## 資料前處理\n",
    "def preproc_x(x, flatten=True):\n",
    "    x = x / 255.\n",
    "    if flatten:\n",
    "        x = x.reshape((len(x), -1))\n",
    "    return x\n",
    "\n",
    "def preproc_y(y, num_classes=10):\n",
    "    if y.shape[-1] == 1:\n",
    "        y = keras.utils.to_categorical(y, num_classes)\n",
    "    return y    "
   ]
  },
  {
   "cell_type": "code",
   "execution_count": 4,
   "metadata": {},
   "outputs": [],
   "source": [
    "x_train, y_train = train\n",
    "x_test, y_test = test\n",
    "\n",
    "# Preproc the inputs\n",
    "x_train = preproc_x(x_train)\n",
    "x_test = preproc_x(x_test)\n",
    "\n",
    "# Preprc the outputs\n",
    "y_train = preproc_y(y_train)\n",
    "y_test = preproc_y(y_test)"
   ]
  },
  {
   "cell_type": "code",
   "execution_count": 8,
   "metadata": {},
   "outputs": [],
   "source": [
    "from keras.layers import Dropout\n",
    "def build_mlp(input_shape, output_units=10, num_neurons=[256, 256, 128, 128], drp_ratio=0.2):\n",
    "    input_layer = keras.layers.Input(input_shape)\n",
    "    \n",
    "    for i, n_units in enumerate(num_neurons):\n",
    "        if i == 0:\n",
    "            x = keras.layers.Dense(units=n_units, \n",
    "                                   activation=\"relu\", \n",
    "                                   name=\"hidden_layer\"+str(i+1))(input_layer)\n",
    "            x = Dropout(drp_ratio)(x)\n",
    "        else:\n",
    "            x = keras.layers.Dense(units=n_units, \n",
    "                                   activation=\"relu\", \n",
    "                                   name=\"hidden_layer\"+str(i+1))(x)\n",
    "            x = Dropout(drp_ratio)(x)\n",
    "    \n",
    "    out = keras.layers.Dense(units=output_units, activation=\"softmax\", name=\"output\")(x)\n",
    "    \n",
    "    model = keras.models.Model(inputs=[input_layer], outputs=[out])\n",
    "    return model"
   ]
  },
  {
   "cell_type": "code",
   "execution_count": 11,
   "metadata": {},
   "outputs": [],
   "source": [
    "\"\"\"Code Here\n",
    "設定超參數\n",
    "\"\"\"\n",
    "LEARNING_RATE = 1e-4\n",
    "EPOCHS = 50\n",
    "BATCH_SIZE = 256\n",
    "Dropout_EXP = 0.35"
   ]
  },
  {
   "cell_type": "code",
   "execution_count": 12,
   "metadata": {
    "scrolled": true
   },
   "outputs": [
    {
     "name": "stdout",
     "output_type": "stream",
     "text": [
      "_________________________________________________________________\n",
      "Layer (type)                 Output Shape              Param #   \n",
      "=================================================================\n",
      "input_3 (InputLayer)         (None, 3072)              0         \n",
      "_________________________________________________________________\n",
      "hidden_layer1 (Dense)        (None, 256)               786688    \n",
      "_________________________________________________________________\n",
      "dropout_5 (Dropout)          (None, 256)               0         \n",
      "_________________________________________________________________\n",
      "hidden_layer2 (Dense)        (None, 256)               65792     \n",
      "_________________________________________________________________\n",
      "dropout_6 (Dropout)          (None, 256)               0         \n",
      "_________________________________________________________________\n",
      "hidden_layer3 (Dense)        (None, 128)               32896     \n",
      "_________________________________________________________________\n",
      "dropout_7 (Dropout)          (None, 128)               0         \n",
      "_________________________________________________________________\n",
      "hidden_layer4 (Dense)        (None, 128)               16512     \n",
      "_________________________________________________________________\n",
      "dropout_8 (Dropout)          (None, 128)               0         \n",
      "_________________________________________________________________\n",
      "output (Dense)               (None, 10)                1290      \n",
      "=================================================================\n",
      "Total params: 903,178\n",
      "Trainable params: 903,178\n",
      "Non-trainable params: 0\n",
      "_________________________________________________________________\n",
      "Train on 50000 samples, validate on 10000 samples\n",
      "Epoch 1/50\n",
      "50000/50000 [==============================] - 4s 72us/step - loss: 2.2549 - acc: 0.1494 - val_loss: 2.1035 - val_acc: 0.2364\n",
      "Epoch 2/50\n",
      "50000/50000 [==============================] - 3s 60us/step - loss: 2.1043 - acc: 0.2123 - val_loss: 1.9791 - val_acc: 0.2944\n",
      "Epoch 3/50\n",
      "50000/50000 [==============================] - 3s 59us/step - loss: 2.0224 - acc: 0.2455 - val_loss: 1.8993 - val_acc: 0.3187\n",
      "Epoch 4/50\n",
      "50000/50000 [==============================] - 3s 61us/step - loss: 1.9713 - acc: 0.2710 - val_loss: 1.8476 - val_acc: 0.3371\n",
      "Epoch 5/50\n",
      "50000/50000 [==============================] - 3s 59us/step - loss: 1.9281 - acc: 0.2913 - val_loss: 1.8138 - val_acc: 0.3507\n",
      "Epoch 6/50\n",
      "50000/50000 [==============================] - 3s 61us/step - loss: 1.9048 - acc: 0.3023 - val_loss: 1.7735 - val_acc: 0.3629\n",
      "Epoch 7/50\n",
      "50000/50000 [==============================] - 3s 60us/step - loss: 1.8746 - acc: 0.3159 - val_loss: 1.7572 - val_acc: 0.3654\n",
      "Epoch 8/50\n",
      "50000/50000 [==============================] - 3s 60us/step - loss: 1.8508 - acc: 0.3260 - val_loss: 1.7344 - val_acc: 0.3819\n",
      "Epoch 9/50\n",
      "50000/50000 [==============================] - 3s 61us/step - loss: 1.8316 - acc: 0.3352 - val_loss: 1.7213 - val_acc: 0.3873\n",
      "Epoch 10/50\n",
      "50000/50000 [==============================] - 3s 61us/step - loss: 1.8165 - acc: 0.3421 - val_loss: 1.6826 - val_acc: 0.4010\n",
      "Epoch 11/50\n",
      "50000/50000 [==============================] - 3s 60us/step - loss: 1.7950 - acc: 0.3525 - val_loss: 1.6601 - val_acc: 0.4118\n",
      "Epoch 12/50\n",
      "50000/50000 [==============================] - 3s 59us/step - loss: 1.7809 - acc: 0.3544 - val_loss: 1.6516 - val_acc: 0.4071\n",
      "Epoch 13/50\n",
      "50000/50000 [==============================] - 3s 60us/step - loss: 1.7639 - acc: 0.3597 - val_loss: 1.6267 - val_acc: 0.4213\n",
      "Epoch 14/50\n",
      "50000/50000 [==============================] - 3s 59us/step - loss: 1.7477 - acc: 0.3698 - val_loss: 1.6336 - val_acc: 0.4204\n",
      "Epoch 15/50\n",
      "50000/50000 [==============================] - 3s 59us/step - loss: 1.7403 - acc: 0.3728 - val_loss: 1.6062 - val_acc: 0.4319\n",
      "Epoch 16/50\n",
      "50000/50000 [==============================] - 3s 60us/step - loss: 1.7229 - acc: 0.3800 - val_loss: 1.5942 - val_acc: 0.4354\n",
      "Epoch 17/50\n",
      "50000/50000 [==============================] - 3s 60us/step - loss: 1.7098 - acc: 0.3851 - val_loss: 1.5822 - val_acc: 0.4385\n",
      "Epoch 18/50\n",
      "50000/50000 [==============================] - 3s 57us/step - loss: 1.7034 - acc: 0.3891 - val_loss: 1.5679 - val_acc: 0.4433\n",
      "Epoch 19/50\n",
      "50000/50000 [==============================] - 3s 60us/step - loss: 1.6917 - acc: 0.3908 - val_loss: 1.5662 - val_acc: 0.4488\n",
      "Epoch 20/50\n",
      "50000/50000 [==============================] - 3s 60us/step - loss: 1.6761 - acc: 0.3945 - val_loss: 1.5544 - val_acc: 0.4487\n",
      "Epoch 21/50\n",
      "50000/50000 [==============================] - 3s 60us/step - loss: 1.6695 - acc: 0.3993 - val_loss: 1.5455 - val_acc: 0.4485\n",
      "Epoch 22/50\n",
      "50000/50000 [==============================] - 3s 60us/step - loss: 1.6627 - acc: 0.4059 - val_loss: 1.5436 - val_acc: 0.4500\n",
      "Epoch 23/50\n",
      "50000/50000 [==============================] - 3s 60us/step - loss: 1.6553 - acc: 0.4049 - val_loss: 1.5403 - val_acc: 0.4504\n",
      "Epoch 24/50\n",
      "50000/50000 [==============================] - 3s 60us/step - loss: 1.6408 - acc: 0.4105 - val_loss: 1.5361 - val_acc: 0.4538\n",
      "Epoch 25/50\n",
      "50000/50000 [==============================] - 3s 59us/step - loss: 1.6362 - acc: 0.4125 - val_loss: 1.5256 - val_acc: 0.4548\n",
      "Epoch 26/50\n",
      "50000/50000 [==============================] - 3s 58us/step - loss: 1.6339 - acc: 0.4141 - val_loss: 1.5220 - val_acc: 0.4568\n",
      "Epoch 27/50\n",
      "50000/50000 [==============================] - 3s 59us/step - loss: 1.6278 - acc: 0.4154 - val_loss: 1.5043 - val_acc: 0.4612\n",
      "Epoch 28/50\n",
      "50000/50000 [==============================] - 3s 60us/step - loss: 1.6161 - acc: 0.4216 - val_loss: 1.5057 - val_acc: 0.4644\n",
      "Epoch 29/50\n",
      "50000/50000 [==============================] - 3s 63us/step - loss: 1.6125 - acc: 0.4232 - val_loss: 1.5050 - val_acc: 0.4600\n",
      "Epoch 30/50\n",
      "50000/50000 [==============================] - 3s 60us/step - loss: 1.6050 - acc: 0.4254 - val_loss: 1.4900 - val_acc: 0.4716\n",
      "Epoch 31/50\n",
      "50000/50000 [==============================] - 3s 60us/step - loss: 1.5977 - acc: 0.4278 - val_loss: 1.4779 - val_acc: 0.4730\n",
      "Epoch 32/50\n",
      "50000/50000 [==============================] - 3s 60us/step - loss: 1.5910 - acc: 0.4303 - val_loss: 1.4807 - val_acc: 0.4712\n",
      "Epoch 33/50\n",
      "50000/50000 [==============================] - 3s 57us/step - loss: 1.5890 - acc: 0.4312 - val_loss: 1.4947 - val_acc: 0.4680\n",
      "Epoch 34/50\n",
      "50000/50000 [==============================] - 3s 59us/step - loss: 1.5799 - acc: 0.4353 - val_loss: 1.4965 - val_acc: 0.4644\n",
      "Epoch 35/50\n",
      "50000/50000 [==============================] - 3s 59us/step - loss: 1.5751 - acc: 0.4372 - val_loss: 1.4769 - val_acc: 0.4739\n",
      "Epoch 36/50\n",
      "50000/50000 [==============================] - 3s 60us/step - loss: 1.5703 - acc: 0.4373 - val_loss: 1.4676 - val_acc: 0.4804\n",
      "Epoch 37/50\n",
      "50000/50000 [==============================] - 3s 58us/step - loss: 1.5645 - acc: 0.4387 - val_loss: 1.4669 - val_acc: 0.4818\n",
      "Epoch 38/50\n",
      "50000/50000 [==============================] - 3s 60us/step - loss: 1.5628 - acc: 0.4414 - val_loss: 1.4684 - val_acc: 0.4726\n",
      "Epoch 39/50\n",
      "50000/50000 [==============================] - 3s 60us/step - loss: 1.5553 - acc: 0.4444 - val_loss: 1.4672 - val_acc: 0.4733\n",
      "Epoch 40/50\n",
      "50000/50000 [==============================] - 3s 59us/step - loss: 1.5492 - acc: 0.4457 - val_loss: 1.4602 - val_acc: 0.4832\n",
      "Epoch 41/50\n",
      "50000/50000 [==============================] - 3s 60us/step - loss: 1.5440 - acc: 0.4453 - val_loss: 1.4596 - val_acc: 0.4823\n",
      "Epoch 42/50\n",
      "50000/50000 [==============================] - 3s 60us/step - loss: 1.5419 - acc: 0.4485 - val_loss: 1.4557 - val_acc: 0.4781\n",
      "Epoch 43/50\n",
      "50000/50000 [==============================] - 3s 58us/step - loss: 1.5314 - acc: 0.4513 - val_loss: 1.4460 - val_acc: 0.4859\n",
      "Epoch 44/50\n",
      "50000/50000 [==============================] - 3s 61us/step - loss: 1.5290 - acc: 0.4542 - val_loss: 1.4523 - val_acc: 0.4842\n",
      "Epoch 45/50\n",
      "50000/50000 [==============================] - 3s 60us/step - loss: 1.5299 - acc: 0.4519 - val_loss: 1.4524 - val_acc: 0.4841\n",
      "Epoch 46/50\n",
      "50000/50000 [==============================] - 3s 59us/step - loss: 1.5214 - acc: 0.4563 - val_loss: 1.4342 - val_acc: 0.4877\n",
      "Epoch 47/50\n",
      "50000/50000 [==============================] - 3s 59us/step - loss: 1.5183 - acc: 0.4568 - val_loss: 1.4457 - val_acc: 0.4854\n",
      "Epoch 48/50\n"
     ]
    },
    {
     "name": "stdout",
     "output_type": "stream",
     "text": [
      "50000/50000 [==============================] - 3s 61us/step - loss: 1.5150 - acc: 0.4603 - val_loss: 1.4323 - val_acc: 0.4890\n",
      "Epoch 49/50\n",
      "50000/50000 [==============================] - 3s 60us/step - loss: 1.5119 - acc: 0.4606 - val_loss: 1.4316 - val_acc: 0.4852\n",
      "Epoch 50/50\n",
      "50000/50000 [==============================] - 3s 60us/step - loss: 1.4987 - acc: 0.4634 - val_loss: 1.4247 - val_acc: 0.4910\n"
     ]
    }
   ],
   "source": [
    "results = {}\n",
    "\"\"\"Code Here\n",
    "撰寫你的訓練流程並將結果用 dictionary 紀錄\n",
    "\"\"\"\n",
    "model = build_mlp(input_shape=x_train.shape[1:], drp_ratio=Dropout_EXP)\n",
    "model.summary()\n",
    "optimizer = keras.optimizers.Adam(lr=LEARNING_RATE, beta_1=0.9, beta_2=0.999, epsilon=None, decay=0.0, amsgrad=False)\n",
    "model.compile(loss=\"categorical_crossentropy\", metrics=[\"accuracy\"], optimizer=optimizer)\n",
    "\n",
    "model.fit(x_train, y_train, \n",
    "          epochs=EPOCHS, \n",
    "          batch_size=BATCH_SIZE, \n",
    "          validation_data=(x_test, y_test), \n",
    "          shuffle=True)\n",
    "\n",
    "# Collect results\n",
    "train_loss = model.history.history[\"loss\"]\n",
    "valid_loss = model.history.history[\"val_loss\"]\n",
    "train_acc = model.history.history[\"acc\"]\n",
    "valid_acc = model.history.history[\"val_acc\"]"
   ]
  },
  {
   "cell_type": "code",
   "execution_count": 13,
   "metadata": {},
   "outputs": [
    {
     "data": {
      "image/png": "[encoded data removed]",
      "text/plain": [
       "<Figure size 432x288 with 1 Axes>"
      ]
     },
     "metadata": {
      "needs_background": "light"
     },
     "output_type": "display_data"
    },
    {
     "data": {
      "image/png": "[encoded data removed]",
      "text/plain": [
       "<Figure size 432x288 with 1 Axes>"
      ]
     },
     "metadata": {
      "needs_background": "light"
     },
     "output_type": "display_data"
    }
   ],
   "source": [
    "import matplotlib.pyplot as plt\n",
    "%matplotlib inline\n",
    "\n",
    "plt.plot(range(len(train_loss)), train_loss, label=\"train loss\")\n",
    "plt.plot(range(len(valid_loss)), valid_loss, label=\"valid loss\")\n",
    "plt.legend()\n",
    "plt.title(\"Loss\")\n",
    "plt.show()\n",
    "\n",
    "plt.plot(range(len(train_acc)), train_acc, label=\"train accuracy\")\n",
    "plt.plot(range(len(valid_acc)), valid_acc, label=\"valid accuracy\")\n",
    "plt.legend()\n",
    "plt.title(\"Accuracy\")\n",
    "plt.show()"
   ]
  },
  {
   "cell_type": "code",
   "execution_count": null,
   "metadata": {},
   "outputs": [],
   "source": []
  }
 ],
 "metadata": {
  "kernelspec": {
   "display_name": "Python 3",
   "language": "python",
   "name": "python3"
  },
  "language_info": {
   "codemirror_mode": {
    "name": "ipython",
    "version": 3
   },
   "file_extension": ".py",
   "mimetype": "text/x-python",
   "name": "python",
   "nbconvert_exporter": "python",
   "pygments_lexer": "ipython3",
   "version": "3.6.10"
  }
 },
 "nbformat": 4,
 "nbformat_minor": 2
}
